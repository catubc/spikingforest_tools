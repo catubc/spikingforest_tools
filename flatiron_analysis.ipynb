{
 "cells": [
  {
   "cell_type": "code",
   "execution_count": 1,
   "metadata": {},
   "outputs": [
    {
     "data": {
      "application/javascript": [
       "IPython.notebook.set_autosave_interval(180000)"
      ]
     },
     "metadata": {},
     "output_type": "display_data"
    },
    {
     "name": "stdout",
     "output_type": "stream",
     "text": [
      "Autosaving every 180 seconds\n"
     ]
    },
    {
     "data": {
      "text/html": [
       "<style>.container { width:100% !important; }</style>"
      ],
      "text/plain": [
       "<IPython.core.display.HTML object>"
      ]
     },
     "metadata": {},
     "output_type": "display_data"
    }
   ],
   "source": [
    "import matplotlib\n",
    "#matplotlib.use('Agg')\n",
    "%matplotlib tk\n",
    "%autosave 180\n",
    "import matplotlib.pyplot as plt\n",
    "from IPython.core.display import display, HTML\n",
    "display(HTML(\"<style>.container { width:100% !important; }</style>\"))\n",
    "\n",
    "import matplotlib.cm as cm\n",
    "from matplotlib import gridspec\n",
    "\n",
    "import numpy as np\n",
    "import pandas as pd\n",
    "import os\n",
    "import shutil\n",
    "\n",
    "\n",
    "from numba import jit\n",
    "\n",
    "colors = [\n",
    "'black','grey','brown','slategrey','darkviolet','darkmagenta',\n",
    "'blue','blue','blue',\n",
    "'red','red','red',\n",
    "'green','green','green',\n",
    "'cyan','cyan','cyan',\n",
    "'orange','orange','orange',\n",
    "    \n",
    "'orange','firebrick','lawngreen','dodgerblue','crimson','orchid','slateblue''darkgreen','darkorange','indianred','darkviolet','deepskyblue','greenyellow',\n",
    "'peru','cadetblue','forestgreen','slategrey','lightsteelblue','rebeccapurple',\n",
    "'darkmagenta','yellow','hotpink']\n"
   ]
  },
  {
   "cell_type": "code",
   "execution_count": 10,
   "metadata": {},
   "outputs": [],
   "source": [
    "import scipy\n",
    "import scipy.spatial\n",
    "\n",
    "@jit\n",
    "def find_spike_match(s1, s2):\n",
    "    max_dist = 15\n",
    "    ctr=0\n",
    "    for s in s1:\n",
    "        dist= np.min(np.abs(s-s2))\n",
    "        if dist<=max_dist:\n",
    "            ctr+=1\n",
    "    \n",
    "    return (ctr)\n",
    "\n",
    "def find_template_match(data_in, \n",
    "                        templates_gt,\n",
    "                        spike_train_yass,\n",
    "                        spike_train_gt):\n",
    "      \n",
    "    template=data_in[0]\n",
    "    unit = data_in[1]\n",
    "    print (\"UNIT: \", unit)\n",
    "        \n",
    "    template = template.T.ravel()\n",
    "#     plt.plot(template)\n",
    "#     plt.show()\n",
    "#     return (_,_,_,_)\n",
    "\n",
    "    best_result = 0\n",
    "    best_roll=0 \n",
    "    best_match = None\n",
    "    for t in range(templates_gt.shape[0]):\n",
    "        data2 = templates_gt[t]\n",
    "        for k in range(-50,50,1):\n",
    "            data_test = np.roll(data2,k,axis=0).T.ravel()\n",
    "            result = 1-scipy.spatial.distance.cosine(template, data_test)\n",
    "                \n",
    "            if result>best_result:\n",
    "                best_roll = k\n",
    "                best_result = result\n",
    "                best_match = t\n",
    "\n",
    "    # compute # matches\n",
    "    idx_yass = np.where(spike_train_yass[:,1]==unit)[0]\n",
    "    #print (\"spike_train_yass units: \", spike_train_yass[:,1])\n",
    "    times_yass = spike_train_yass[idx_yass,0]\n",
    "    #print (\"times yass: \", times_yass[:20])\n",
    "\n",
    "    # find match times\n",
    "    idx_match = np.where(spike_train_gt[:,1]==best_match+1)[0]\n",
    "    times_match = spike_train_gt[idx_match,0] + 24\n",
    "    #print (\"times match: \", times_match[:20])\n",
    "    \n",
    "    # find matches\n",
    "    tot_matches = find_spike_match(times_yass, times_match)\n",
    "\n",
    "    # plot figures\n",
    "    if False:\n",
    "        plt.plot(template)\n",
    "        plt.plot(templates_gt[best_match].T.ravel())\n",
    "        plt.show()\n",
    "        \n",
    "    # compute purity, \n",
    "    tot_sorted = idx_yass.shape[0]\n",
    "    tot_ground_truth = times_match.shape[0]\n",
    "    n_fn = max((tot_ground_truth-tot_matches), 0)\n",
    "    n_fp = max((tot_sorted-tot_matches),0)\n",
    "    \n",
    "    purity =  tot_matches/ (tot_matches+n_fp)\n",
    "    accuracy = tot_matches / (n_fn+tot_matches+n_fp)\n",
    "    \n",
    "    return (best_match, best_result, best_roll, purity, accuracy,\n",
    "           n_fn, n_fp, tot_matches, tot_sorted, tot_ground_truth)\n",
    "\n",
    "\n",
    "def find_match_spikes(unit, spike_train_yass, spike_train_match):\n",
    "    \n",
    "    # compute # matches\n",
    "    idx_yass = np.where(spike_train_yass[:,1]==unit)[0]\n",
    "    times_yass = spike_train_yass[idx_yass,0]\n",
    "    #print (\"spike_train_yass units \", unit, times_yass.shape) \n",
    "    #if unit!=190:\n",
    "    #    return (_, _, _, _, _, _, _, _)\n",
    "    #print (\"times yass: \", times_yass[:20])\n",
    "\n",
    "    best_match_test = 0\n",
    "    accuracy_test = 0\n",
    "    for best_match in np.unique(spike_train_gt[:,1]):\n",
    "        # find match times\n",
    "        idx_match = np.where(spike_train_gt[:,1]==best_match)[0]\n",
    "        times_match = spike_train_gt[idx_match,0] + 24\n",
    "        #print (\"times match: \", times_match[:20])\n",
    "\n",
    "        if times_match.shape[0]==0:\n",
    "            continue\n",
    "        # find matches\n",
    "        tot_matches = find_spike_match(times_yass, times_match)\n",
    "\n",
    "        # compute purity, \n",
    "        tot_sorted = idx_yass.shape[0]\n",
    "        tot_ground_truth = times_match.shape[0]\n",
    "        n_fn = max((tot_ground_truth-tot_matches), 0)\n",
    "        n_fp = max((tot_sorted-tot_matches),0)\n",
    "\n",
    "        purity =  tot_matches/ max((tot_matches+n_fp),1)\n",
    "        accuracy = tot_matches / max((n_fn+tot_matches+n_fp),1)\n",
    "\n",
    "        if accuracy>accuracy_test:\n",
    "            accuracy_test = accuracy\n",
    "            best_match_test = best_match\n",
    "            #print (\"accuracy_test: \", accuracy_test)\n",
    "            #print (\"best_match_test: \", best_match_test)\n",
    "    \n",
    "    # \n",
    "    idx_match = np.where(spike_train_gt[:,1]==best_match_test)[0]\n",
    "    times_match = spike_train_gt[idx_match,0] + 24\n",
    "\n",
    "    # find matches\n",
    "    tot_matches = find_spike_match(times_yass, times_match)\n",
    "\n",
    "    # compute metrics, \n",
    "    tot_sorted = times_yass.shape[0]\n",
    "    tot_ground_truth = times_match.shape[0]\n",
    "    \n",
    "    n_fn = max((tot_ground_truth-tot_matches), 0)\n",
    "    n_fp = max((tot_sorted-tot_matches),0)\n",
    "\n",
    "    purity =  tot_matches/ max((tot_matches+n_fp),1)\n",
    "    accuracy = tot_matches / max((n_fn+tot_matches+n_fp),1)\n",
    "    print (\"unit: \", unit, \", accuracy: \", accuracy)\n",
    "    \n",
    "#     print (best_match_test, purity, accuracy,\n",
    "#            n_fn, n_fp, tot_matches, tot_sorted, tot_ground_truth)\n",
    "    \n",
    "    return (best_match_test, purity, accuracy,\n",
    "           n_fn, n_fp, tot_matches, tot_sorted, tot_ground_truth)\n",
    "\n",
    "\n",
    "def plot_results(templates_yass, spike_train_yass, spike_train_gt, \n",
    "                 results,\n",
    "                idx_in,\n",
    "                plot_text=False):\n",
    "    \n",
    "    print (templates_yass.shape)\n",
    "    ptps_yass = templates_yass.ptp(1).max(1)\n",
    "    print (\"len results: \", len(results))\n",
    "\n",
    "    purity = []\n",
    "    sizes= []\n",
    "    accuracy = []\n",
    "    fp = []\n",
    "    fn = []\n",
    "    for k in range(len(results)):\n",
    "        best_match_test = results[k][0]\n",
    "        purity.append(results[k][1])\n",
    "        tot_sorted = results[k][6]\n",
    "        tot_ground_truth = results[k][7]\n",
    "        tot_matches = results[k][5]\n",
    "\n",
    "        #fp.append(results[k][3]/(tot_ground_truth)\n",
    "        fp.append((tot_matches/tot_sorted))\n",
    "        fn.append((tot_matches)/(tot_ground_truth))\n",
    "\n",
    "        accuracy_local = results[k][5]/(results[k][5]+results[k][3]+results[k][4]) \n",
    "        accuracy.append(accuracy_local)\n",
    "\n",
    "        idx = np.where(spike_train_yass[:,1]==k)[0]\n",
    "        sizes.append(idx.shape[0])\n",
    "\n",
    "        if ptps_yass[k]>28:\n",
    "            print (\"yass: \", k, \", gt: \", best_match_test, \" ptp: \", \n",
    "                   ptps_yass[k], \" accuracy: \", accuracy_local)\n",
    "\n",
    "    sizes=np.array(sizes)\n",
    "    ptps = templates_yass.ptp(1).max(1)[idx_in]\n",
    "\n",
    "    ax = plt.subplot(2,2,1)\n",
    "    print (len(ptps), len(purity))\n",
    "    plt.scatter(ptps, purity, s=sizes/20.,c='blue',alpha=.5)\n",
    "    \n",
    "    if plot_text:\n",
    "        for k in range(len(purity)):\n",
    "            plt.text(ptps[k], purity[k], str(k),fontsize=10)\n",
    "    \n",
    "    text = '\\ntot_matches / (tot_maches + fp)'\n",
    "    plt.ylabel(\"Purity / Precision (flatiron): \"+text,fontsize=10)\n",
    "    plt.xlabel(\"PTP (SU)\",fontsize=10)\n",
    "    plt.ylim(0,1)\n",
    "    plt.xlim(left=0)\n",
    "    \n",
    "    ax=plt.subplot(2,2,2)\n",
    "    plt.scatter(ptps, accuracy, s=sizes/20.,c='red',alpha=.5)\n",
    "    plt.xlabel(\"PTP (SU)\",fontsize=10)\n",
    "    text = '\\ntot_matches / (tot_maches + fp + fn)'\n",
    "    plt.ylabel(\"Accuracy: \"+text,fontsize=10)\n",
    "    plt.ylim(0,1)\n",
    "    plt.xlim(left=0)\n",
    "\n",
    "    ax=plt.subplot(2,2,3)\n",
    "    plt.scatter(ptps, fp, s=sizes/20.,c='orange',alpha=.5)\n",
    "    plt.xlabel(\"PTP (SU)\",fontsize=10)\n",
    "    text = '\\n(spikes_sorted-tot_matches)/spikes_sorted'\n",
    "    plt.ylabel(\"FP: \"+text,fontsize=10)\n",
    "    plt.ylim(0,1)\n",
    "    plt.xlim(left=0)\n",
    "\n",
    "    ax=plt.subplot(2,2,4)\n",
    "    plt.scatter(ptps, fn, s=sizes/20.,c='green',alpha=.5)\n",
    "    plt.xlabel(\"PTP (SU)\",fontsize=10)\n",
    "    text = '\\n(ground_truth - tot_matches)/ground_truth'\n",
    "    plt.ylabel(\"FN: \"+text,fontsize=10)\n",
    "    plt.ylim(0,1)\n",
    "    plt.xlim(left=0)\n",
    "\n",
    "    plt.suptitle(\"Match algorithm: accuracy metric (no cosine similarity)\")\n",
    "    #ax.tick_params(axis='both', which='major', labelsize=30)\n",
    "    plt.show()\n",
    "    # visualize recomputed templates over time;\n",
    "    \n",
    "def binary_reader_waveforms(filename, n_channels, n_times, spikes, data_type='float32'):\n",
    "    ''' Reader for loading raw binaries\n",
    "    \n",
    "        standardized_filename:  name of file contianing the raw binary\n",
    "        n_channels:  number of channels in the raw binary recording \n",
    "        n_times:  length of waveform \n",
    "        spikes: 1D array containing spike times in sample rate of raw data\n",
    "        channels: load specific channels only\n",
    "        data_type: float32 for standardized data\n",
    "    \n",
    "    '''\n",
    "\n",
    "    # ***** LOAD RAW RECORDING *****\n",
    "    wfs=[]\n",
    "    if data_type =='float32':\n",
    "        data_len = 4\n",
    "    else:\n",
    "        data_len = 2\n",
    "        \n",
    "    with open(filename, \"rb\") as fin:\n",
    "        for ctr,s in enumerate(spikes):\n",
    "                #print (ctr,s)\n",
    "            # index into binary file: time steps * 4  4byte floats * n_channels\n",
    "            try:\n",
    "                fin.seek(s * data_len * n_channels, os.SEEK_SET)\n",
    "                wfs.append(np.fromfile(\n",
    "                    fin,\n",
    "                    dtype=data_type,\n",
    "                    count=(n_times * n_channels)).reshape(n_times, n_channels))\n",
    "\n",
    "            except:\n",
    "                pass\n",
    "    fin.close()\n",
    "    return np.array(wfs)"
   ]
  },
  {
   "cell_type": "code",
   "execution_count": 3,
   "metadata": {
    "scrolled": true
   },
   "outputs": [
    {
     "name": "stdout",
     "output_type": "stream",
     "text": [
      "(10, 151, 32)\n",
      "unit:  0 unit:  5, accuracy: unit:    7, accuracy:  0.9061496099128041.0\n",
      " \n",
      ", accuracy: unit:   41.0\n",
      " , accuracy:  0.9602649006622517\n",
      "unit:  1 , accuracy:  1.0\n",
      "unit: unit:  3  , accuracy: 6 1.0 \n",
      ", accuracy:  0.9886520896761694\n",
      "unit:  2 , accuracy:  0.598408186469585\n",
      "unit:  8 , accuracy:  1.0\n",
      "unit:  9 , accuracy:  0.6731969486823856\n",
      "DONE\n"
     ]
    }
   ],
   "source": [
    "# load ground truth data\n",
    "\n",
    "root_dir = '/media/cat/4TBSSD/data/spikingforest/synth_mearec_neuronexus_noise10_K20_C32/001_SYNTH/'\n",
    "\n",
    "spike_train_gt = np.load('/media/cat/4TBSSD/data/spikingforest/synth_mearec_neuronexus_noise10_K20_C32/001_SYNTH/ground_truth/spike_train_ground_truth.npy')\n",
    "# templates_gt = np.load('/media/cat/4TBSSD/data/spikingforest/synth_bionet_static/static_8x_A_2A/ground_truth/templates.npy')\n",
    "# print (templates_gt.shape)\n",
    "# ptps_gt = templates_gt.ptp(1).max(1)\n",
    "\n",
    "# load sorted data\n",
    "templates_yass = np.load('/media/cat/4TBSSD/data/spikingforest/synth_mearec_neuronexus_noise10_K20_C32/001_SYNTH/tmp/output/templates_0sec.npy')\n",
    "print (templates_yass.shape)\n",
    "ptps_yass = templates_yass.ptp(1).max(1)\n",
    "spike_train_yass = np.load('/media/cat/4TBSSD/data/spikingforest/synth_mearec_neuronexus_noise10_K20_C32/001_SYNTH/tmp/output/spike_train.npy')\n",
    "\n",
    "import parmap\n",
    "# KS2 vs. Yass\n",
    "if False:\n",
    "    results = parmap.map(find_template_match, \n",
    "                     list(zip(templates_yass,np.arange(templates_yass.shape[0]))),\n",
    "                     templates_gt,\n",
    "                     spike_train_yass,\n",
    "                     spike_train_gt,\n",
    "                     pm_processes=12)\n",
    "else:\n",
    "    if False:\n",
    "        for unit in range(10):\n",
    "            find_match_spikes(unit, \n",
    "                 spike_train_yass,\n",
    "                 spike_train_gt)\n",
    "\n",
    "    else:\n",
    "        results = parmap.map(find_match_spikes, #(unit, spike_train_yass, spike_train_match):\n",
    "                 np.arange(templates_yass.shape[0]), \n",
    "                 spike_train_yass,\n",
    "                 spike_train_gt,\n",
    "                 pm_processes=12)\n",
    "\n",
    "        \n",
    "print (\"DONE\")\n",
    "\n",
    "np.save(root_dir + '/results.npy', results)"
   ]
  },
  {
   "cell_type": "code",
   "execution_count": 3,
   "metadata": {},
   "outputs": [
    {
     "name": "stdout",
     "output_type": "stream",
     "text": [
      "(221, 101, 60)\n"
     ]
    }
   ],
   "source": [
    "# reload old or new data\n",
    "if True:\n",
    "    results = np.load('/media/cat/4TBSSD/data/spikingforest/results_original.npy', allow_pickle=True)\n",
    "    # load sorted data\n",
    "    templates_yass = np.load('/media/cat/4TBSSD/data/spikingforest/synth_bionet_static/static_8x_A_2A/output_original/templates.npy', allow_pickle=True)\n",
    "    print (templates_yass.shape)\n",
    "    ptps_yass = templates_yass.ptp(1).max(1)\n",
    "    spike_train_yass = np.load('/media/cat/4TBSSD/data/spikingforest/synth_bionet_static/static_8x_A_2A/output_original/spike_train.npy')\n",
    "    \n",
    "else:\n",
    "    results = np.load('/media/cat/4TBSSD/data/spikingforest/results_old.npy', allow_pickle=True)\n",
    "    # load sorted data\n",
    "    templates_yass = np.load('/media/cat/4TBSSD/data/spikingforest/synth_bionet_static/static_8x_A_2A/output_old/templates.npy')\n",
    "    print (templates_yass.shape)\n",
    "    ptps_yass = templates_yass.ptp(1).max(1)\n",
    "    spike_train_yass = np.load('/media/cat/4TBSSD/data/spikingforest/synth_bionet_static/static_8x_A_2A/output_old/spike_train.npy')\n"
   ]
  },
  {
   "cell_type": "code",
   "execution_count": 35,
   "metadata": {
    "scrolled": true
   },
   "outputs": [
    {
     "name": "stdout",
     "output_type": "stream",
     "text": [
      "(221, 101, 60)\n",
      "4 207  diff:  0.1671235\n",
      "units:  4 207  match   8192 0 10997 , accuracy1:  0.318 , accuracy2:  0.254 , total:  0.572\n",
      "7 8  diff:  0.14306289\n",
      "units:  7 8  match   441 0 1140 , accuracy1:  0.31 , accuracy2:  0.314 , total:  0.624\n",
      "15 35  diff:  0.09507002\n",
      "units:  15 35  match   2975 0 5883 , accuracy1:  0.38 , accuracy2:  0.421 , total:  0.8\n",
      "18 169  diff:  0.11288212\n",
      "units:  18 169  match   2832 0 5438 , accuracy1:  0.437 , accuracy2:  0.503 , total:  0.939\n",
      "20 180  diff:  0.10584998\n",
      "units:  20 180  match   780 0 1510 , accuracy1:  0.398 , accuracy2:  0.476 , total:  0.874\n",
      "24 42  diff:  0.09819445\n",
      "units:  24 42  match   2870 0 5345 , accuracy1:  0.416 , accuracy2:  0.519 , total:  0.935\n",
      "44 171  diff:  0.08722196\n",
      "units:  44 171  match   2972 0 5508 , accuracy1:  0.387 , accuracy2:  0.518 , total:  0.905\n",
      "47 124  diff:  0.1345562\n",
      "units:  47 124  match   2950 0 5848 , accuracy1:  0.335 , accuracy2:  0.417 , total:  0.753\n",
      "52 199  diff:  0.08053971\n",
      "units:  52 199  match   2873 0 5490 , accuracy1:  0.46 , accuracy2:  0.505 , total:  0.965\n",
      "69 203  diff:  0.09617692\n",
      "units:  69 203  match   3555 0 14147 , accuracy1:  0.27 , accuracy2:  0.34 , total:  0.61\n",
      "72 87  diff:  0.08489779\n",
      "units:  72 87  match   2831 0 5475 , accuracy1:  0.47 , accuracy2:  0.509 , total:  0.979\n",
      "78 92  diff:  0.1000603\n",
      "units:  78 92  match   2880 0 5564 , accuracy1:  0.351 , accuracy2:  0.47 , total:  0.821\n",
      "80 122  diff:  0.12009325\n",
      "units:  80 122  match   2932 0 5514 , accuracy1:  0.452 , accuracy2:  0.528 , total:  0.98\n",
      "85 160  diff:  0.16754408\n",
      "units:  85 160  match   742 0 1487 , accuracy1:  0.378 , accuracy2:  0.454 , total:  0.833\n",
      "89 102  diff:  0.08923627\n",
      "units:  89 102  match   2863 0 5361 , accuracy1:  0.454 , accuracy2:  0.527 , total:  0.98\n",
      "96 112  diff:  0.10601488\n",
      "units:  96 112  match   2888 0 5431 , accuracy1:  0.466 , accuracy2:  0.528 , total:  0.995\n",
      "110 123  diff:  0.09043372\n",
      "units:  110 123  match   2857 0 5365 , accuracy1:  0.448 , accuracy2:  0.52 , total:  0.968\n",
      "128 172  diff:  0.1794018\n",
      "units:  128 172  match   392 0 1136 , accuracy1:  0.261 , accuracy2:  0.406 , total:  0.666\n",
      "143 155  diff:  0.10802713\n",
      "units:  143 155  match   2579 0 5606 , accuracy1:  0.415 , accuracy2:  0.377 , total:  0.792\n",
      "156 168  diff:  0.10977328\n",
      "units:  156 168  match   400 0 796 , accuracy1:  0.492 , accuracy2:  0.505 , total:  0.998\n",
      "157 175  diff:  0.11615857\n",
      "units:  157 175  match   2388 0 5050 , accuracy1:  0.446 , accuracy2:  0.372 , total:  0.817\n",
      "176 208  diff:  0.10436426\n",
      "units:  176 208  match   3036 0 5479 , accuracy1:  0.425 , accuracy2:  0.516 , total:  0.941\n",
      "185 198  diff:  0.078535795\n",
      "units:  185 198  match   2917 0 5562 , accuracy1:  0.453 , accuracy2:  0.51 , total:  0.963\n",
      "213 214  diff:  0.18862623\n",
      "units:  213 214  match   2373 0 2720 , accuracy1:  0.119 , accuracy2:  0.86 , total:  0.979\n",
      "(1058654, 2)\n",
      "[[    5121        1]\n",
      " [    5145        1]\n",
      " [    5252        1]\n",
      " ...\n",
      " [19186986      197]\n",
      " [19190436      197]\n",
      " [19198318      197]]\n"
     ]
    }
   ],
   "source": [
    "# Burst matching function;\n",
    "templates_yass = np.load('/media/cat/4TBSSD/data/spikingforest/synth_bionet_static/static_8x_A_2A/output_original/templates.npy', allow_pickle=True)\n",
    "print (templates_yass.shape)\n",
    "spike_train_yass = np.load('/media/cat/4TBSSD/data/spikingforest/synth_bionet_static/static_8x_A_2A/output_original/spike_train.npy')\n",
    "\n",
    "# ground truth data\n",
    "\n",
    "spike_train_gt = np.load('/media/cat/4TBSSD/data/spikingforest/synth_bionet_static/static_8x_A_2A/ground_truth/spike_train.npy')\n",
    "templates_gt = np.load('/media/cat/4TBSSD/data/spikingforest/synth_bionet_static/static_8x_A_2A/ground_truth/templates.npy')\n",
    "\n",
    "# load original results\n",
    "results_original = np.load('/media/cat/4TBSSD/data/spikingforest/results_original.npy',allow_pickle=True)\n",
    "\n",
    "spike_train_yass_merged = spike_train_yass.copy()\n",
    "merges = []\n",
    "ctr2=0\n",
    "for unit1 in range(templates_yass.shape[0]):\n",
    "    for unit2 in range(templates_yass.shape[0]):\n",
    "        if unit1==unit2:\n",
    "            continue\n",
    "        if unit1>unit2:\n",
    "            continue\n",
    "\n",
    "        temp1 = templates_yass[unit1]\n",
    "        temp2 = templates_yass[unit2]\n",
    "\n",
    "        temp1_norm = -temp1/np.min(temp1)\n",
    "        temp2_norm = -temp2/np.min(temp2)\n",
    "\n",
    "        diff = temp1_norm - temp2_norm\n",
    "        if np.max(np.abs(diff))<=0.190:\n",
    "            print (unit1, unit2, \" diff: \", np.max(np.abs(diff)))\n",
    "            #ax=plt.subplot(5,6,ctr2+1)\n",
    "            merges.append(np.sort([unit1, unit2]))\n",
    "            temp1 = templates_yass[unit1]\n",
    "            temp2 = templates_yass[unit2]\n",
    "            \n",
    "            # \n",
    "            temp1 = -temp1/np.min(temp1)\n",
    "            temp2 = -temp2/np.min(temp2)\n",
    "            #plt.plot(temp1-temp2, c='green',alpha=.5)\n",
    "            #plt.plot(temp2, c='red', alpha=.5)\n",
    "            #plt.ylim(-0.1,0.1)\n",
    "\n",
    "            idx = np.where(spike_train_yass_merged[:,1]==unit2)[0]\n",
    "            spike_train_yass_merged[idx,1]=unit1\n",
    "            idx2 = np.where(spike_train_yass_merged[:,1]==unit2)[0]\n",
    "            idx3 = np.where(spike_train_yass_merged[:,1]==unit1)[0]\n",
    "            print (\"units: \", unit1, unit2, \" match\", \" \", idx.shape[0], idx2.shape[0], idx3.shape[0],\n",
    "                   \", accuracy1: \", round(results_original[unit1][2],3), \n",
    "                   \", accuracy2: \", round(results_original[unit2][2],3),\n",
    "                   \", total: \", round(results_original[unit1][2] + results_original[unit2][2],3))\n",
    "            \n",
    "            ctr2+=1\n",
    "plt.show()\n",
    "\n",
    "# reorder dta\n",
    "spike_train_final = np.zeros((0,2),'int32')\n",
    "ctr=1\n",
    "for k in np.unique(spike_train_yass_merged[:,1]):\n",
    "    idx = np.where(spike_train_yass_merged[:,1]==k)[0]\n",
    "    \n",
    "    temp = np.zeros((idx.shape[0],2), 'int32')\n",
    "    \n",
    "    temp[:,0] = spike_train_yass_merged[idx,0]\n",
    "    temp[:,1] = ctr\n",
    "    spike_train_final = np.vstack((spike_train_final, temp))\n",
    "    \n",
    "    ctr+=1\n",
    "\n",
    "print (spike_train_final.shape)\n",
    "spike_train_yass_merged = spike_train_final.copy()\n",
    "print (spike_train_yass_merged)\n",
    "\n",
    "spike_train_yass_merged[:,1]-=1\n",
    "\n",
    "# load sorted data\n",
    "np.save('/media/cat/4TBSSD/data/spikingforest/synth_bionet_static/static_8x_A_2A/output/spike_train_merged.npy',\n",
    "       spike_train_yass_merged)\n",
    "\n",
    "\n"
   ]
  },
  {
   "cell_type": "code",
   "execution_count": 36,
   "metadata": {},
   "outputs": [
    {
     "name": "stdout",
     "output_type": "stream",
     "text": [
      "tempaltes merged:  (197, 101, 60)\n"
     ]
    }
   ],
   "source": [
    "# fix templates\n",
    "templates_del = []\n",
    "for k in merges:\n",
    "    templates_del.append(np.sort(k)[1])\n",
    "templates_del = np.unique(templates_del)\n",
    "templates_merged = np.delete(templates_yass,templates_del,axis=0)\n",
    "print (\"tempaltes merged: \", templates_merged.shape)\n",
    "\n",
    "np.save('/media/cat/4TBSSD/data/spikingforest/synth_bionet_static/static_8x_A_2A/output/templates_merged.npy',\n",
    "       templates_merged)\n",
    "\n"
   ]
  },
  {
   "cell_type": "code",
   "execution_count": 37,
   "metadata": {
    "scrolled": true
   },
   "outputs": [
    {
     "name": "stdout",
     "output_type": "stream",
     "text": [
      "(197, 101, 60)\n",
      "testing units:  [  0   1   2   3   4   5   6   7   8   9  10  11  12  13  14  15  16  17\n",
      "  18  19  20  21  22  23  24  25  26  27  28  29  30  31  32  33  34  35\n",
      "  36  37  38  39  40  41  42  43  44  45  46  47  48  49  50  51  52  53\n",
      "  54  55  56  57  58  59  60  61  62  63  64  65  66  67  68  69  70  71\n",
      "  72  73  74  75  76  77  78  79  80  81  82  83  84  85  86  87  88  89\n",
      "  90  91  92  93  94  95  96  97  98  99 100 101 102 103 104 105 106 107\n",
      " 108 109 110 111 112 113 114 115 116 117 118 119 120 121 122 123 124 125\n",
      " 126 127 128 129 130 131 132 133 134 135 136 137 138 139 140 141 142 143\n",
      " 144 145 146 147 148 149 150 151 152 153 154 155 156 157 158 159 160 161\n",
      " 162 163 164 165 166 167 168 169 170 171 172 173 174 175 176 177 178 179\n",
      " 180 181 182 183 184 185 186 187 188 189 190 191 192 193 194 195 196] [ 6.0228677 13.394905  11.293156  10.928486   8.945223   3.7195044\n",
      " 14.2912655  9.407461   3.8813028 23.122099  13.687571  11.72106\n",
      "  3.6515245  5.1513267  7.724716   5.293088   3.876947  14.156634\n",
      "  6.602163  16.82838    6.9252224  9.158772   8.868906  19.470814\n",
      " 17.988487   7.180519  10.312911   5.022747   9.382439   4.756191\n",
      "  6.585781   4.280609  15.262985  20.417704   5.2044477  9.591175\n",
      " 10.087677   4.2666817 52.407104   9.99751   16.141726  10.494377\n",
      " 19.329702  12.996916   9.526992   7.179528   4.3662214 10.434427\n",
      " 35.12999   19.93739   13.683809  33.673965  14.50352    7.8045583\n",
      " 55.53207    6.1169043  9.768295  10.850992  16.358028   5.894991\n",
      "  7.5267124 15.907671   6.7701044  4.6645722  5.3267035 12.826696\n",
      "  7.3701124 17.373308   8.917696  22.844435  29.937677  16.781761\n",
      " 11.295617  10.823387  20.307299  10.874526   7.3596544 22.013977\n",
      "  7.3901305  4.8849654 10.160607   5.375707  11.778667   8.936781\n",
      "  7.7686443 25.740118  68.72615   17.991812  12.843037  21.329569\n",
      " 13.029803  33.367317   5.659067  22.834755   7.6077933  5.240464\n",
      "  5.910065   6.1607437  6.895629   3.9409447  8.3900795  9.712016\n",
      "  6.5518746 16.127213  24.329414  13.756978   8.98386   24.002123\n",
      " 13.416115   5.946582   7.359072  15.917269  13.960929   4.7357783\n",
      "  7.912349   9.18371   18.008774  14.599293   8.330214   5.9506927\n",
      "  6.6753435 11.394068  14.331938  10.187754   9.828533  14.629777\n",
      "  8.2443905 30.043097   9.87992    6.473422  19.835663  11.30256\n",
      " 12.598072  17.458061  34.38801    9.2821865 10.004122  26.43421\n",
      "  8.293331  15.27351   17.088217   9.314491   5.107812  35.589123\n",
      " 17.79492   24.770334  17.35167    6.179955  20.657433  62.575676\n",
      "  9.7255    12.951684  35.968914  14.3373375  5.571037   5.308273\n",
      " 11.543934  18.853798   3.9057312 13.816092  15.495752  11.990279\n",
      " 13.883405  13.085065   6.015111  19.072296   3.8646898 19.277632\n",
      " 27.29604   18.440643  11.0588     9.445093   9.700803   2.9874687\n",
      " 10.334096   7.9181876  4.3751144  6.6701183 35.639107  49.622517\n",
      " 22.766779  11.28683   19.14611    9.55438    7.81584    6.8342237\n",
      "  9.408905  13.298426  13.1697645  5.8664875 18.366913  12.084586\n",
      "  9.916538   7.9990544 16.390959  11.826841  12.448235 ]\n",
      "unit:  30 , accuracy:  0.07241298761971501\n",
      "unit:  10 , accuracy:  0.47983453981385726\n",
      "unit:  20 , accuracy:  0.2966168371361133\n",
      "unit:  50 , accuracy:  0.42209072978303747\n",
      "unit:  45 , accuracy:  0.5578947368421052\n",
      "unit:  11unit:  , accuracy:   0.372050816696914725\n",
      " , accuracy:  0.6315291893169463\n",
      "unit:  35 , accuracy:  0.8611772711806737\n",
      "unit:  40 , accuracy:  0.9474699828473413\n",
      "unit:  0 , accuracy:  0.22581342557561346\n",
      "unit:  55 , accuracy:  0.42303590472804836\n",
      "unit:  21 , accuracy:  0.05914251821725131\n",
      "unit:  51 , accuracy:  0.9917330971361087\n",
      "unit:  15 , accuracy:  0.1801536262951054\n",
      "unit:  22 , accuracy:  0.2544987146529563\n",
      "unit:  1 , accuracy:  0.4176520994001714\n",
      "unit:  26 , accuracy:  0.6387700534759359\n",
      "unit:  31unit:   46, accuracy:  0.09966134494436381 , accuracy: \n",
      " 0.08593350383631713\n",
      "unit:  36 , accuracy:  0.4597439045781442\n",
      "unit:  41 , accuracy:  0.8687232219365896\n",
      "unit:  52 unit:  , accuracy:  56 0.737151248164464\n",
      ", accuracy:  0.36885637028789564\n",
      "unit:  2 , accuracy:  0.6314623338257016\n",
      "unit:  32 , accuracy:  0.9177489177489178\n",
      "unit:  47 , accuracy:  0.7061079156395508\n",
      "unit:  53 , accuracy:  0.6629013079667063\n",
      "unit:  27 , accuracy:  0.37252440725244074\n",
      "unit:  23 , accuracy:  0.9182692307692307\n",
      "unit:  57 , accuracy:  0.8472107721901622\n",
      "unit:  42 , accuracy:  0.9277208529493215\n",
      "unit:  37 , accuracy:  0.1374802470909352\n",
      "unit:  33 , accuracy:  0.9791033434650456\n",
      "unit:  48 , accuracy:  0.9881450488145049\n",
      "unit:  3 , accuracy:  0.2804048448647752\n",
      "unit:  24 , accuracy:  0.9588815789473685\n",
      "unit:  54 , accuracy:  0.9988439306358381\n",
      "unit:  43 , accuracy:  0.03784362727597287\n",
      "unit:  28 , accuracy:  0.8711465188777278\n",
      "unit:  58 , accuracy:  0.9562411776567856\n",
      "unit:  38 , accuracy:  1.0\n",
      "unit:  34 , accuracy:  0.18063206726587416\n",
      "unit:  60 , accuracy:  0.8195564516129032\n",
      "unit:  65 , accuracy:  0.8717434869739479\n",
      "unit:  59unit:   , accuracy: 49 , accuracy:  0.03727369542066028 0.9507406746385865\n",
      "\n",
      "unit:  16 , accuracy:  0.06714256577605547\n",
      "unit: unit:   2944  , accuracy:  0.12318261703147468, accuracy:  \n",
      "0.6812194760988605\n",
      "unit:  12 , accuracy:  0.06853944450311543\n",
      "unit:  70 , accuracy:  0.9916559691912709\n",
      "unit:  4 , accuracy:  unit: 0.4087037983307784 \n",
      "61 , accuracy:  0.43725787434731345\n",
      "unit:  80 , accuracy:  0.372501611863314\n",
      "unit:  39 , accuracy:  0.9200824954885279\n",
      "unit:  90 , accuracy:  0.8114824335904027\n",
      "unit:  71 , accuracy:  0.8937106918238994\n",
      "unit:  75 , accuracy:  0.7663252240717029\n",
      "unit:  85 , accuracy:  0.976697247706422\n",
      "unit:  17 , accuracy:  0.9226033421284081\n",
      "unit:  72 , accuracy:  0.8359932088285229\n",
      "unit:  95 , accuracy:  0.14723032069970846\n",
      "unit:  62 , accuracy:  0.297235895494131\n",
      "unit:  91 , accuracy:  0.9928453494771602\n",
      "unit:  81 , accuracy:  0.3593570608495982\n",
      "unit:  100 , accuracy:  0.8548624754420432\n",
      "unit:  13 , accuracy:  0.11189575451870534\n",
      "unit:  76 , accuracy:  0.5497553017944535\n",
      "unit: unit:   6686  , accuracy: , accuracy:   0.296531219028741361.0\n",
      "\n",
      "unit:  18 , accuracy:  0.6253728375422549\n",
      "unit:  73 , accuracy:  0.602319587628866\n",
      "unit:  96 , accuracy: unit:   50.15265200517464425 \n",
      ", accuracy:  0.048058487286541114\n",
      "unit:  101 , accuracy:  0.15967686490202818\n",
      "unit:  82 , accuracy:  0.7667079207920792\n",
      "unit:  unit: 19  92, accuracy:   , accuracy: 0.8400969109630527 \n",
      "0.6279186542806929\n",
      "unit:  74 , accuracy:  0.8367029548989113\n",
      "unit:  67 , accuracy:  0.9319633435156901\n",
      "unit:  6 , accuracy:  0.8595355919299581\n",
      "unit:  87 , accuracy:  0.980201718341427\n",
      "unit:  14 , accuracy:  0.7347872502668904\n",
      "unit:  83 , accuracy:  0.6314432989690721\n",
      "unit:  105 , accuracy:  0.8595915390226112\n",
      "unit:  77 , accuracy:  0.9735572628193675\n",
      "unit:  97 , accuracy:  0.2589349353426331\n",
      "unit:  93 , accuracy:  0.9836895388076491\n",
      "unit:  7 , accuracy:  0.5015673981191222\n",
      "unit:  84 , accuracy:  0.40019286403085824\n",
      "unit:  63 unit: , accuracy:   68 0.7128671907323127, accuracy: \n",
      " 0.4040674759577487\n",
      "unit:  115 , accuracy:  unit:  0.7154129405576013\n",
      "106 , accuracy:  0.42020665901262916\n",
      "unit:  102 , accuracy:  0.2486379969862061\n",
      "unit:  78 , accuracy:  0.3039492242595205\n",
      "unit:  110 , accuracy:  0.38142664872139975\n",
      "unit:  88 , accuracy:  0.8532883642495784\n",
      "unit:  79 , accuracy:  0.03404255319148936\n",
      "unit:  94 , accuracy:  0.6555014210312627\n",
      "unit:  107 , accuracy:  0.9894206549118388\n",
      "unit:  111 , accuracy:  0.8107819589004537\n",
      "unit: unit:  89 , accuracy:   0.960481099656357469\n",
      " unit: , accuracy:  103  , accuracy: 0.9765275040315355 \n",
      "0.9305692662059888\n",
      "unit:  120 , accuracy:  0.3414012738853503\n",
      "unit:  64 , accuracy:  0.4243587985187217unit: \n",
      " 130 , accuracy:  0.8422807602534178\n",
      "unit:  116 , accuracy:  0.9628061130546861\n",
      "unit:  108 , accuracy:  0.954248366013072\n",
      "unit:  112 , accuracy:  0.7824406405300939\n",
      "unit:  125 , accuracy:  0.7088994565217391\n",
      "unit:  121 , accuracy:  0.5123010130246021\n",
      "unit:  145 , accuracy:  0.9949748743718593\n",
      "unit:  98 , accuracy:  0.17591577100241282\n",
      "unit:  117 , accuracy:  0.9391077824812765\n",
      "unit:  135 , accuracy:  0.3432884272033761\n",
      "unit:  unit:  104140  , accuracy: , accuracy:   0.96050955414012740.9369772998805257\n",
      "\n",
      "unit:  109 , accuracy:  0.6370711001061196\n",
      "unit:  131 , accuracy:  0.6819085487077535\n",
      "unit:  126 , accuracy:  0.7120631881282911\n",
      "unit:  118 , accuracy:  0.4966887417218543\n",
      "unit:  146 , accuracy:  0.7835986988529361\n",
      "unit:  132 , accuracy:  0.6334519572953736\n",
      "unit:  unit: 136  122, accuracy:   , accuracy: 0.5147620004016871 \n",
      "0.8783086971467858\n",
      "unit:  150 , accuracy:  0.41313226515865537\n",
      "unit:  141 , accuracy:  0.6434245366284201\n",
      "unit:  127 , accuracy:  0.9857716161984678\n",
      "unit:  113 , accuracy:  0.1690005896226415\n",
      "unit:  123 , accuracy:  0.6711192998618148\n",
      "unit:  147 , accuracy:  0.4343811826775115\n",
      "unit:  8 , accuracy:  0.13573561063667292\n",
      "unit:  137 , accuracy:  0.9790867898222377\n",
      "unit:  128 , accuracy:  unit: 0.6335676625659051 \n",
      "114 , accuracy:  0.34797047970479705\n",
      "unit:  155 , accuracy:  0.29463459759481964\n",
      "unit:  151 , accuracy:  0.9543162266389795\n",
      "unit:  119 , accuracy:  0.30775956284153005\n",
      "unit:  133 , accuracy:  0.735653809971778\n",
      "unit:  unit: 148  124, accuracy:   , accuracy:  0.9532967032967034\n",
      "0.3260387811634349\n",
      "unit:  9 , accuracy:  unit: 0.9487638839125762 \n",
      "165 , accuracy:  0.4829787234042553\n",
      "unit:  156 , accuracy:  0.17444933920704847\n",
      "unit:  138 , accuracy:  0.4290625\n",
      "unit:  134 , accuracy:  0.9680534918276374\n",
      "unit:  160 , accuracy:  0.9474233983286908\n",
      "unit:  152 , accuracy:  unit:  0.9947780678851175129\n",
      " , accuracy:  0.588711855252498\n",
      "unit:  142 , accuracy:  0.22321169296292712\n",
      "unit:  170 , accuracy:  unit: 0.425\n",
      " 157unit:  , accuracy:  149  , accuracy: 0.9401767505098573 \n",
      "0.9980601357904947\n",
      "unit:  175 , accuracy:  0.34360255342769913\n",
      "unit:  139 , accuracy:  0.909156976744186\n",
      "unit:  180 , accuracy:  0.8675819309123117\n",
      "unit:  161 , accuracy:  0.36908077994428967\n",
      "unit:  185 , accuracy:  0.04982363315696649\n",
      "unit:  153 , accuracy:  0.9270358306188925\n",
      "unit:  171 , accuracy:  0.9035563592525618\n",
      "unit:  143 , accuracy:  0.9979674796747967\n",
      "unit:  176 , accuracy:  0.034406565656565656\n",
      "unit:  190 , accuracy:  0.973352538710839\n",
      "unit:  195 , accuracy:  0.836712625033793\n",
      "unit:  181 , accuracy:  0.6083513318934485\n",
      "unit:  162 , accuracy:  0.43636363636363634\n",
      "unit:  172 , accuracy:  0.7475409836065574\n",
      "unit:  unit:  191186 , accuracy:   , accuracy: 0.8822335025380711 \n",
      "0.8250220653133274\n",
      "unit: unit:  144 182 , accuracy:   , accuracy: 0.9469542407461381 \n",
      "0.3360107095046854\n",
      "unit:  154 , accuracy:  0.18134777376654632\n",
      "unit:  163 , accuracy:  0.6344463971880492\n",
      "unit:  196 , accuracy:  0.8585969738651994\n",
      "unit:  187 , accuracy:  0.3291298865069357\n",
      "unit:  183 , accuracy:  0.14869505494505494\n",
      "unit:  192 , accuracy:  0.8276422764227642\n",
      "unit:  177 , accuracy:  0.29197480142426735\n",
      "unit:  188 , accuracy:  0.8746103221337028\n",
      "unit:  99 , accuracy:  0.06777545926926067\n",
      "unit:  193 , accuracy:  0.6257465162574651\n",
      "unit:  unit: 178  184 , accuracy:  , accuracy: 0.9764749813293503 0.27953639082751747\n",
      "\n",
      "unit:  189 , accuracy:  0.06219886114761279\n",
      "unit:  164 , accuracy:  0.46270456503014645\n",
      "unit:  194 , accuracy:  0.9463144439710268\n",
      "unit:  179 , accuracy:  0.9996038034865293\n",
      "unit:  166 , accuracy:  0.0721438790108318\n",
      "unit:  167 , accuracy:  0.9512793550648441\n",
      "unit:  168 , accuracy:  0.9898692810457517\n",
      "unit:  169 , accuracy:  0.34049079754601225\n",
      "unit:  158 , accuracy:  0.05849735773914375\n",
      "unit:  159 , accuracy:  0.9259064634787179\n",
      "unit:  173 , accuracy:  0.03972789115646259\n",
      "unit:  174 , accuracy:  0.8894545454545455\n",
      "DONE\n"
     ]
    }
   ],
   "source": [
    "import parmap\n",
    "print (templates_merged.shape)\n",
    "ptps = templates_merged.ptp(1).max(1)\n",
    "idx = np.argsort(ptps)[::-1]\n",
    "\n",
    "idx_in = idx\n",
    "\n",
    "idx_in = np.arange(templates_merged.shape[0])\n",
    "print (\"testing units: \", idx_in, ptps[idx_in])\n",
    "\n",
    "results_merged = parmap.map(find_match_spikes, \n",
    "                            #np.arange(templates_merged.shape[0]), \n",
    "                            idx_in, \n",
    "                            spike_train_yass_merged,\n",
    "#                             np.arange(templates_yass.shape[0]),\n",
    "#                             spike_train_yass,\n",
    "                            spike_train_gt,\n",
    "                            pm_processes=12)\n",
    "print (\"DONE\")\n",
    "np.save('/media/cat/4TBSSD/data/spikingforest/results_merged.npy', results_merged)\n"
   ]
  },
  {
   "cell_type": "code",
   "execution_count": 16,
   "metadata": {},
   "outputs": [],
   "source": [
    "# ptps = templates_yass.ptp(1).max(1)\n",
    "# idx = np.argsort(ptps)[::-1]\n",
    "\n",
    "# idx_in = idx#[:3]"
   ]
  },
  {
   "cell_type": "code",
   "execution_count": 19,
   "metadata": {},
   "outputs": [
    {
     "name": "stdout",
     "output_type": "stream",
     "text": [
      "(19200000, 60)\n"
     ]
    }
   ],
   "source": [
    "data = np.fromfile('/media/cat/4TBSSD/data/spikingforest/synth_bionet_static/static_8x_A_2A/data_correct_order.bin','int16')\n",
    "n_chans = 60\n",
    "data_2D = data.reshape(-1,n_chans)\n",
    "print (data_2D.shape)"
   ]
  },
  {
   "cell_type": "code",
   "execution_count": 20,
   "metadata": {},
   "outputs": [
    {
     "name": "stdout",
     "output_type": "stream",
     "text": [
      "(217, 101, 60)\n"
     ]
    }
   ],
   "source": [
    "templates = np.load('/media/cat/4TBSSD/data/spikingforest/synth_bionet_static/static_8x_A_2A/output/templates.npy')\n",
    "print (templates.shape)\n",
    "max_chans= templates.ptp(1).argmax(1)\n",
    "ptps = templates.ptp(1).max(1)"
   ]
  },
  {
   "cell_type": "code",
   "execution_count": 21,
   "metadata": {},
   "outputs": [
    {
     "name": "stdout",
     "output_type": "stream",
     "text": [
      "(2873, 151, 60)\n",
      "(151, 60)\n"
     ]
    }
   ],
   "source": [
    "# reloat template \n",
    "\n",
    "#fname = '/media/cat/4TBSSD/data/spikingforest/synth_bionet_static/static_8x_A_2A/standardized.bin'\n",
    "#data_type = 'float32'\n",
    "fname = '/media/cat/4TBSSD/data/spikingforest/synth_bionet_static/static_8x_A_2A/data_correct_order.bin'\n",
    "data_type = 'int16'\n",
    "\n",
    "n_channels = 60\n",
    "n_times = 151\n",
    "\n",
    "#spike_train = np.load('/media/cat/1TB/data/synthetic/run3/ground_truth/spike_train_ground_truth.npy')\n",
    "#spike_train_yass = np.load('/media/cat/4TBSSD/data/spikingforest/synth_bionet_static/static_8x_A_2A/output/spike_train.npy')\n",
    "spike_train_yass = np.load('/media/cat/4TBSSD/data/spikingforest/synth_bionet_static/static_8x_A_2A/output_original/spike_train.npy')\n",
    "spike_train_gt = np.load('/media/cat/4TBSSD/data/spikingforest/synth_bionet_static/static_8x_A_2A/ground_truth/spike_train.npy')\n",
    "    \n",
    "unit_yass = 199\n",
    "\n",
    "# load yass waveforms\n",
    "idx = np.where(spike_train_yass[:,1]==unit_yass)[0]\n",
    "spikes = np.int32(spike_train_yass[idx,0])-n_times//2\n",
    "wfs_yass = binary_reader_waveforms(fname, n_channels, n_times, spikes, data_type)\n",
    "print (wfs_yass.shape)\n",
    "\n",
    "template_yass = np.mean(wfs_yass,0)\n",
    "print (template_yass.shape)"
   ]
  },
  {
   "cell_type": "code",
   "execution_count": 59,
   "metadata": {},
   "outputs": [
    {
     "name": "stdout",
     "output_type": "stream",
     "text": [
      "...loading recording...\n",
      "finished loading recording\n"
     ]
    }
   ],
   "source": [
    "# Configure kachery to download data from the public database\n",
    "from spikeforest2_utils import AutoRecordingExtractor, AutoSortingExtractor\n",
    "import kachery as ka\n",
    "ka.set_config(fr='default_readonly')\n",
    "\n",
    "# bionet\n",
    "#recording_path = 'sha1dir://abc900f5cd62436e7c89d914c9f36dcd7fcca0e7.synth_bionet/bionet_static/static_8x_A_2A'\n",
    "\n",
    "# 32 chan\n",
    "#recording_path = 'sha1dir://10b2e53b6b3aa0731b763db42daa692c4e1564b0.synth_mearec_neuronexus/datasets_noise10_K20_C32/001_synth'\n",
    "\n",
    "# janelia\n",
    "recording_path = 'sha1dir://615aa23efde8898aa89002613e20ad59dcde42f9.hybrid_janelia/static_siprobe/rec_16c_1200s_11'\n",
    "\n",
    "\n",
    "# LOAD DATA\n",
    "print (\"...loading recording...\")\n",
    "recording = AutoRecordingExtractor(recording_path, download=True)\n",
    "print (\"finished loading recording\")\n",
    "\n",
    "#np.save('/media/cat/4TBSSD/data/spikingforest/synth_mearec_neuronexus_noise10_K20_C32/001_SYNTH/recording_object', recording)\n",
    "#sorting_true_path = os.path.join(recording_path,'firings_true.mda')\n",
    "#sorting = AutoSortingExtractor(sorting_true_path, samplerate=recording.get_sampling_frequency())"
   ]
  },
  {
   "cell_type": "code",
   "execution_count": 48,
   "metadata": {},
   "outputs": [],
   "source": [
    "# np.save('/media/cat/4TBSSD/data/spikingforest/synth_mearec_neuronexus_noise10_K20_C\n",
    "#         32/001_SYNTH/recording_object', recording)\n"
   ]
  },
  {
   "cell_type": "code",
   "execution_count": 60,
   "metadata": {
    "scrolled": true
   },
   "outputs": [
    {
     "name": "stdout",
     "output_type": "stream",
     "text": [
      "Loading recording into RAM...\n",
      "DONE\n"
     ]
    }
   ],
   "source": [
    "import spiketoolkit as st\n",
    "import spikeextractors as se\n",
    "\n",
    "# channel_ids = np.ones(32,'int32')\n",
    "# recording = se.SubRecordingExtractor(parent_recording=recording, channel_ids=channel_ids)\n",
    "\n",
    "# load into memory\n",
    "print('Loading recording into RAM...')\n",
    "recording = se.NumpyRecordingExtractor(timeseries=recording.get_traces(), \n",
    "                                       sampling_frequency=recording.get_sampling_frequency())\n",
    "print (\"DONE\")\n",
    "#recording = st.preprocessing.bandpass_filter(recording=recording, freq_min=300, freq_max=6000)"
   ]
  },
  {
   "cell_type": "code",
   "execution_count": 61,
   "metadata": {},
   "outputs": [
    {
     "ename": "AttributeError",
     "evalue": "'NumpyRecordingExtractor' object has no attribute 'shape'",
     "output_type": "error",
     "traceback": [
      "\u001b[0;31m---------------------------------------------------------------------------\u001b[0m",
      "\u001b[0;31mAttributeError\u001b[0m                            Traceback (most recent call last)",
      "\u001b[0;32m<ipython-input-61-da0f11a0119a>\u001b[0m in \u001b[0;36m<module>\u001b[0;34m\u001b[0m\n\u001b[0;32m----> 1\u001b[0;31m \u001b[0mprint\u001b[0m \u001b[0;34m(\u001b[0m\u001b[0mrecording\u001b[0m\u001b[0;34m.\u001b[0m\u001b[0mshape\u001b[0m\u001b[0;34m)\u001b[0m\u001b[0;34m\u001b[0m\u001b[0m\n\u001b[0m",
      "\u001b[0;31mAttributeError\u001b[0m: 'NumpyRecordingExtractor' object has no attribute 'shape'"
     ]
    }
   ],
   "source": [
    "#print (recording.shape)"
   ]
  },
  {
   "cell_type": "code",
   "execution_count": 63,
   "metadata": {},
   "outputs": [
    {
     "name": "stdout",
     "output_type": "stream",
     "text": [
      "SNR of each channel: [2.965159377316531, 2.965159377316531, 2.965159377316531, 2.965159377316531, 2.965159377316531, 2.965159377316531, 2.965159377316531, 2.965159377316531, 2.965159377316531, 2.965159377316531, 2.965159377316531, 2.965159377316531, 2.965159377316531, 2.965159377316531, 2.965159377316531, 2.965159377316531]\n",
      "16\n"
     ]
    }
   ],
   "source": [
    "# COMPUTE SPIKING FORESET VERSION OF SNR\n",
    "# filter recording for 10 sec of data on each channel\n",
    "recording_filtered = st.preprocessing.bandpass_filter(recording=recording, freq_min=300, freq_max=6000)\n",
    "    \n",
    "# M=len(channel_ids)\n",
    "samplerate = int(recording_filtered.get_sampling_frequency())\n",
    "\n",
    "# grab 1 sec of filtered data;\n",
    "X = recording_filtered.get_traces(start_frame=samplerate * 1, end_frame=samplerate * 2)\n",
    "ret = []\n",
    "n_chan = 16\n",
    "channel_ids = np.arange(n_chan)\n",
    "for ii in range(len(channel_ids)):\n",
    "    # noise_level=np.std(X[ii,:])\n",
    "    noise_level = np.median(np.abs(X[ii, :])) / 0.6745  # median absolute deviation (MAD)\n",
    "    ret.append(noise_level)\n",
    "\n",
    "print (\"SNR of each channel:\",  ret)\n",
    "print (len(ret))\n",
    "#np.save('/media/cat/4TBSSD/data/spikingforest/synth_bionet_static/static_8x_A_2A/snr.npy',ret)\n"
   ]
  },
  {
   "cell_type": "code",
   "execution_count": 66,
   "metadata": {},
   "outputs": [
    {
     "name": "stdout",
     "output_type": "stream",
     "text": [
      "(16, 30000)\n"
     ]
    }
   ],
   "source": [
    "print (X.shape)\n",
    "for k in range(16):\n",
    "    plt.plot(X[k,:10000]+k*20,c='black')\n",
    "plt.show()"
   ]
  },
  {
   "cell_type": "code",
   "execution_count": 13,
   "metadata": {},
   "outputs": [
    {
     "name": "stdout",
     "output_type": "stream",
     "text": [
      "(60, 20000)\n",
      "<class 'numpy.int16'>\n"
     ]
    }
   ],
   "source": [
    "print (X.shape)\n",
    "print (type(X[0][0]))"
   ]
  },
  {
   "cell_type": "code",
   "execution_count": 67,
   "metadata": {},
   "outputs": [],
   "source": [
    "recording_filtered.get_traces().T.tofile('/media/cat/4TBSSD/data/spikingforest/hybrid_janelia/static_siprobe/rec_16c_1200s_11/data_filtered.bin')\n"
   ]
  },
  {
   "cell_type": "code",
   "execution_count": 17,
   "metadata": {},
   "outputs": [
    {
     "name": "stdout",
     "output_type": "stream",
     "text": [
      "(1152000000,)\n"
     ]
    }
   ],
   "source": [
    "data1 = np.fromfile('/media/cat/4TBSSD/data/spikingforest/synth_bionet_static/static_8x_A_2A/data_correct_order_filtered_int16.bin',\n",
    "                   'int16')\n",
    "print (data1.shape)\n",
    "data1_2D = data1.reshape(-1,60)\n",
    "\n",
    "for k in range(60):\n",
    "    plt.plot(data1_2D[:10000,k]+k*5000,c='black')\n",
    "plt.show()\n"
   ]
  },
  {
   "cell_type": "code",
   "execution_count": 54,
   "metadata": {},
   "outputs": [
    {
     "name": "stdout",
     "output_type": "stream",
     "text": [
      "(1104, 101, 32)\n",
      "(3911, 101, 32)\n",
      "(8795, 101, 32)\n",
      "(1274, 101, 32)\n",
      "(1661, 101, 32)\n",
      "(4062, 101, 32)\n",
      "(3613, 101, 32)\n",
      "(1441, 101, 32)\n",
      "(1568, 101, 32)\n",
      "(5762, 101, 32)\n"
     ]
    }
   ],
   "source": [
    "# Make templates as per spikingforest rules\n",
    "\n",
    "spike_train_yass = np.load('/media/cat/4TBSSD/data/spikingforest/synth_mearec_neuronexus_noise10_K20_C32/001_SYNTH/tmp/output/spike_train.npy')\n",
    "unit_ids = np.unique(spike_train_yass[:,1])\n",
    "#print (unit_ids)\n",
    "data_type = 'int16'\n",
    "data_type = 'float32'\n",
    "fname = '/media/cat/4TBSSD/data/spikingforest/synth_mearec_neuronexus_noise10_K20_C32/001_SYNTH/c9a62ee5ae1f71097a17acb9b7aca3457161c76e_float32_filtered.bin'\n",
    "n_channels = n_chan\n",
    "n_times = 101\n",
    "\n",
    "templates_sf = []\n",
    "for unit in unit_ids:\n",
    "    # print('Unit {} of {}'.format(unit,len(unit_ids)))\n",
    "    #waveforms = _get_random_spike_waveforms(recording=recording, sorting=sorting, unit=unit, snippet_len=snippet_len, max_num=max_num, channels=None)\n",
    "    idx = np.where(spike_train_yass[:,1]==unit)[0]\n",
    "    spikes= spike_train_yass[idx,0]-n_times//2-30\n",
    "    idx2 = np.where(spikes<=(600*30000-100))[0]\n",
    "    spikes = spikes[idx2]\n",
    "    \n",
    "    waveforms = binary_reader_waveforms(fname, n_channels, n_times, spikes, data_type)\n",
    "    print (waveforms.shape)\n",
    "    template = np.median(waveforms, axis=0)\n",
    "    templates_sf.append(template)\n",
    "\n",
    "# np.save('/media/cat/4TBSSD/data/spikingforest/synth_bionet_static/static_8x_A_2A/templates_snr.npy',\n",
    "#        templates_sf/np.array(ret))"
   ]
  },
  {
   "cell_type": "code",
   "execution_count": 55,
   "metadata": {},
   "outputs": [],
   "source": [
    "plt.plot(templates_sf[0])\n",
    "plt.show()"
   ]
  },
  {
   "cell_type": "code",
   "execution_count": 21,
   "metadata": {},
   "outputs": [],
   "source": [
    "\n",
    "# np.save('/media/cat/4TBSSD/data/spikingforest/synth_bionet_static/static_8x_A_2A/templates_snr.npy',\n",
    "#        templates_sf/np.array(ret))"
   ]
  },
  {
   "cell_type": "code",
   "execution_count": 45,
   "metadata": {
    "scrolled": true
   },
   "outputs": [
    {
     "name": "stdout",
     "output_type": "stream",
     "text": [
      "(10, 101, 32)\n",
      "len results:  10\n",
      "yass:  3 , gt:  1.0  ptp:  30.8779329683016  accuracy:  1.0\n",
      "yass:  7 , gt:  8.0  ptp:  42.217392180261896  accuracy:  1.0\n",
      "10 10\n"
     ]
    }
   ],
   "source": [
    "#results_merged = np.load('/media/cat/4TBSSD/data/spikingforest/results_merged.npy')\n",
    "results = np.load('/media/cat/4TBSSD/data/spikingforest/synth_mearec_neuronexus_noise10_K20_C32/001_SYNTH/results.npy')\n",
    "#print (results)\n",
    "\n",
    "spike_train_gt = np.load('/media/cat/4TBSSD/data/spikingforest/synth_mearec_neuronexus_noise10_K20_C32/001_SYNTH/ground_truth/spike_train_ground_truth.npy')\n",
    "#templates_yass = np.load('/media/cat/4TBSSD/data/spikingforest/synth_mearec_neuronexus_noise10_K20_C32/001_SYNTH/tmp/output/templates_0sec.npy', allow_pickle=True)\n",
    "templates_snr = np.load('/media/cat/4TBSSD/data/spikingforest/synth_mearec_neuronexus_noise10_K20_C32/001_SYNTH/templates_snr.npy')\n",
    "spike_train_yass = np.load('/media/cat/4TBSSD/data/spikingforest/synth_mearec_neuronexus_noise10_K20_C32/001_SYNTH/tmp/output/spike_train.npy')\n",
    "\n",
    "#scale templates\n",
    "#templates_snr /=(85/65.)\n",
    "\n",
    "# plot original results\n",
    "fig =plt.figure()\n",
    "plot_text=True\n",
    "plot_results(templates_snr, spike_train_yass, spike_train_gt, results, \n",
    "             np.arange(len(results)),\n",
    "            plot_text)\n",
    "\n",
    "# compute cumulative mean of data\n",
    "accuracy = results[:,1]\n",
    "sizes = results[:,6]\n",
    "\n",
    "ptps = templates_snr.ptp(1).max(1)\n",
    "idx = np.argsort(ptps)[::-1]\n",
    "\n",
    "sums_accuracy = []\n",
    "sums_purity = []\n",
    "thresh = 8.0#/(65/85.)\n",
    "for k in range(idx.shape[0]):\n",
    "    if ptps[idx[k]]<thresh:\n",
    "        break\n",
    "    sums_purity.append(results[:,1][idx[k]])\n",
    "    sums_accuracy.append(results[:,2][idx[k]])\n",
    "\n",
    "plt.suptitle(\"Spikingforest Max(Abs(template))/Sigma templates\\n\"+\n",
    "             \"Mean of Purity (Precision) of units > 8.0 SNR: \"+str(round(np.nanmean(sums_purity),2))+\"\\n\"+\n",
    "             \"Mean of Accuracy of units > 8.0 SNR: \"+str(round(np.nanmean(sums_accuracy),2)))\n",
    "\n",
    "if False:\n",
    "    fig=plt.figure()\n",
    "    plot_results(templates_yass, spike_train_yass, spike_train_gt, results, np.arange(len(results)))\n",
    "    plt.suptitle(\"PTP based measures\")\n",
    "\n",
    " "
   ]
  },
  {
   "cell_type": "code",
   "execution_count": 53,
   "metadata": {},
   "outputs": [
    {
     "name": "stdout",
     "output_type": "stream",
     "text": [
      "Yass unit:  4  , gt unit;  5\n",
      "[    2030    12521    16623 ... 17993768 17994133 17998198]\n",
      "[    2030    12523    16625 ... 17993771 17994135 17998199]\n",
      "TP:  (1595,) FN:  (66,)\n",
      "Yass unit:  6  , gt unit;  13\n",
      "[    5731     9621    11144 ... 17988825 17995891 17998715]\n",
      "[    5731     9623    11144 ... 17988827 17995894 17998716]\n",
      "TP:  (3572,) FN:  (41,)\n",
      "Yass unit:  5  , gt unit;  10\n",
      "[    1026     1718    18327 ... 17981869 17992229 17995983]\n",
      "[    1027     1719    18328 ... 17992231 17995985 17999024]\n",
      "TP:  (3949,) FN:  (113,)\n"
     ]
    }
   ],
   "source": [
    "# plot specifically identified units:\n",
    "# best_match_test, purity, accuracy, n_fn, \n",
    "# n_fp, tot_matches, tot_sorted, tot_ground_truth)\n",
    "\n",
    "# yass poor units: 4, 6\n",
    "\n",
    "def find_matching_spikes_times(spikes_yass, spikes_gt):\n",
    "    \n",
    "    tp=[]\n",
    "    fn=[]\n",
    "    thresh = 5\n",
    "    for s in spikes_yass:\n",
    "        if np.min(np.abs(s-spikes_gt))<5:\n",
    "            tp.append(s)\n",
    "        else:\n",
    "            fp.append(s)\n",
    "    \n",
    "    return (np.array(tp), np.array(fp))\n",
    "\n",
    "fname = '/media/cat/4TBSSD/data/spikingforest/synth_mearec_neuronexus_noise10_K20_C32/001_SYNTH/tmp/preprocess/standardized.bin'\n",
    "n_channels = 32\n",
    "n_times = 101\n",
    "data_type = 'float32'\n",
    "\n",
    "# units with problems\n",
    "yass_units = [4,6,5]\n",
    "shifts = [15,26, 34]\n",
    "\n",
    "fig=plt.figure()\n",
    "for k in range(len(yass_units)):\n",
    "    yass_unit = yass_units[k]\n",
    "    gt_unit = int(results[yass_unit][0])\n",
    "    print (\"Yass unit: \", yass_unit, \" , gt unit; \", gt_unit)\n",
    "\n",
    "    # plot templates\n",
    "    spike_train_gt = np.load('/media/cat/4TBSSD/data/spikingforest/synth_mearec_neuronexus_noise10_K20_C32/001_SYNTH/ground_truth/spike_train_ground_truth.npy')\n",
    "    spike_train_yass = np.load('/media/cat/4TBSSD/data/spikingforest/synth_mearec_neuronexus_noise10_K20_C32/001_SYNTH/tmp/output/spike_train.npy')\n",
    "\n",
    "    # find matches\n",
    "    idx = np.where(spike_train_yass[:,1]==yass_unit)[0]\n",
    "    spikes_yass = spike_train_yass[idx,0]\n",
    "\n",
    "    idx = np.where(spike_train_gt[:,1]==gt_unit)[0]\n",
    "    spikes_gt = spike_train_gt[idx,0]+shifts[k]\n",
    "\n",
    "    # \n",
    "    #print (spikes_yass)\n",
    "    #print (spikes_gt)\n",
    "\n",
    "    tp, fp = find_matching_spikes_times(spikes_yass, spikes_gt)\n",
    "    #print (\"TP: \", tp.shape, \"FN: \", fn.shape)\n",
    "\n",
    "    tp-=n_times//2\n",
    "    fp-=n_times//2\n",
    "    \n",
    "    wfs_tp = binary_reader_waveforms(fname, n_channels, n_times, tp, data_type)\n",
    "    wfs_fp = binary_reader_waveforms(fname, n_channels, n_times, fp, data_type)\n",
    "\n",
    "    if True:\n",
    "        ax = plt.subplot(2,2,k+1)\n",
    "\n",
    "        template = wfs_tp.mean(0)\n",
    "        max_chan=template.ptp(0).argmax(0)\n",
    "\n",
    "        plt.plot(wfs_tp[:,:,max_chan].T,c='black',alpha=.1)\n",
    "\n",
    "        plt.plot(wfs_fp[:,:,max_chan].T,c='red',alpha=.1)\n",
    "\n",
    "    plt.title(\"Yass unit: \"+str(yass_units[k])+\" , % missing spikes: \"+\n",
    "              str(round(fn.shape[0]/spikes_yass.shape[0],2)*100) ,fontsize=15)\n",
    "    \n",
    "plt.suptitle(\"Analysis of missing spikes in 2 units \\nBlack: found spikes    Red: Missing spikes\",fontsize=20)\n",
    "plt.show()"
   ]
  },
  {
   "cell_type": "code",
   "execution_count": 56,
   "metadata": {},
   "outputs": [
    {
     "name": "stdout",
     "output_type": "stream",
     "text": [
      "Neurons found:  [ 3. 12. 16.  1.  5. 10. 13.  8.  2. 17.]\n"
     ]
    }
   ],
   "source": [
    "neurons_found = results[:,0]\n",
    "print (\"Neurons found: \", neurons_found)"
   ]
  },
  {
   "cell_type": "code",
   "execution_count": 81,
   "metadata": {},
   "outputs": [],
   "source": [
    "wfs_array=[]\n",
    "for k in range(20):\n",
    "    idx = np.where(spike_train_gt[:,1]==k)[0]\n",
    "    \n",
    "    spikes = spike_train_gt[idx,0]-n_times//2\n",
    "    wfs = binary_reader_waveforms(fname, n_channels, n_times, spikes, data_type)\n",
    "    wfs_array.append(wfs)\n",
    "    \n",
    "    "
   ]
  },
  {
   "cell_type": "code",
   "execution_count": 100,
   "metadata": {},
   "outputs": [
    {
     "name": "stdout",
     "output_type": "stream",
     "text": [
      "(20,)\n",
      "(20, 101, 32)\n",
      "[27.54469   19.125742  10.983813   9.265972   8.8300705  8.824865\n",
      "  6.8722024  5.7695966  3.907918   3.62894    3.5775702  3.5643072\n",
      "  3.559717   3.4633448  3.1240668  3.0901875  3.0264156  2.8911786\n",
      "  2.8578587  2.662494 ]\n"
     ]
    },
    {
     "name": "stderr",
     "output_type": "stream",
     "text": [
      "/home/cat/anaconda3/envs/spikingforest/lib/python3.7/site-packages/matplotlib/backends/backend_agg.py:211: RuntimeWarning: Glyph 13 missing from current font.\n",
      "  font.set_text(s, 0.0, flags=flags)\n",
      "/home/cat/anaconda3/envs/spikingforest/lib/python3.7/site-packages/matplotlib/backends/backend_agg.py:180: RuntimeWarning: Glyph 13 missing from current font.\n",
      "  font.set_text(s, 0, flags=flags)\n"
     ]
    }
   ],
   "source": [
    "fig=plt.figure()\n",
    "wfs_array = np.array(wfs_array)\n",
    "print (wfs_array.shape)\n",
    "temps = []\n",
    "for k in range(wfs_array.shape[0]):\n",
    "    temp = wfs_array[k].mean(0)\n",
    "    temps.append(temp)\n",
    "\n",
    "temps = np.array(temps)\n",
    "print (temps.shape)\n",
    "ptps = temps.ptp(1).max(1)\n",
    "idx = np.argsort(ptps)[::-1]\n",
    "print (ptps[idx])\n",
    "\n",
    "ctr=1\n",
    "for k in idx:\n",
    "    ax=plt.subplot(4,5,ctr)\n",
    "    wfs = wfs_array[k]\n",
    "    \n",
    "    template = wfs.mean(0)\n",
    "    max_chan= template.ptp(0).argmax(0)\n",
    "    \n",
    "    if k in neurons_found:\n",
    "        clr='black'\n",
    "        plt.title(\"Found, chan: \"+str(max_chan))\n",
    "    else:\n",
    "        clr='red'\n",
    "        plt.title(\"Missed, chan: \"+str(max_chan))\n",
    "        \n",
    "    plt.xticks([])\n",
    "    plt.plot(wfs[::10,:,max_chan].T,c=clr,alpha=.02)\n",
    "    plt.plot(template[:,max_chan],linewidth=4, c='blue')\n",
    "    ctr+=1\n",
    "plt.suptitle(\"All 20 ground truth units analysis \\rRed: example missed spikes; Black: example found spikes;  Blue: template\")\n",
    "plt.show()"
   ]
  },
  {
   "cell_type": "code",
   "execution_count": 28,
   "metadata": {},
   "outputs": [
    {
     "name": "stdout",
     "output_type": "stream",
     "text": [
      "(197, 8)\n",
      "0.8814901310238522\n"
     ]
    },
    {
     "name": "stderr",
     "output_type": "stream",
     "text": [
      "/home/cat/anaconda3/envs/spikingforest/lib/python3.7/site-packages/ipykernel_launcher.py:18: RuntimeWarning: Mean of empty slice.\n"
     ]
    }
   ],
   "source": [
    "spike_train_gt = np.load('/media/cat/4TBSSD/data/spikingforest/synth_mearec_neuronexus_noise10_K20_C32/001_SYNTH/ground_truth/spike_train_ground_truth.npy')\n"
   ]
  },
  {
   "cell_type": "code",
   "execution_count": 65,
   "metadata": {},
   "outputs": [
    {
     "name": "stdout",
     "output_type": "stream",
     "text": [
      "(10, 151, 32)\n",
      "len results:  10\n",
      "10 10\n"
     ]
    }
   ],
   "source": [
    "# plot merged results\n",
    "#fig =plt.figure()\n",
    "#spike_train_yass_merged = np.load('/media/cat/4TBSSD/data/spikingforest/synth_bionet_static/static_8x_A_2A/output/spike_train_merged.npy')\n",
    "##templates_merged = np.load('/media/cat/4TBSSD/data/spikingforest/synth_bionet_static/static_8x_A_2A/output/templates_merged.npy')\n",
    "#idx_in = np.arange(templates_merged.shape[0])\n",
    "#print (\"res\", results_merged.shape)\n",
    "plot_results(templates_yass, spike_train_yass, spike_train_gt, results, np.arange(len(results)))"
   ]
  },
  {
   "cell_type": "code",
   "execution_count": 10,
   "metadata": {},
   "outputs": [
    {
     "name": "stdout",
     "output_type": "stream",
     "text": [
      "(array([199]),)\n",
      "221\n",
      "[[2.17000000e+02 9.70414201e-01 5.04615385e-01 2.65200000e+03\n",
      "  8.50000000e+01 2.78800000e+03 2.87300000e+03 5.44000000e+03]]\n"
     ]
    }
   ],
   "source": [
    "idx = np.where(np.logical_and(ptps>28.5, ptps<29.5))\n",
    "print (idx)\n",
    "selected_unit = idx[0]\n",
    "\n",
    "print (len(results))\n",
    "\n",
    "print (results[selected_unit])"
   ]
  },
  {
   "cell_type": "code",
   "execution_count": 74,
   "metadata": {},
   "outputs": [
    {
     "name": "stdout",
     "output_type": "stream",
     "text": [
      "52\n",
      "199\n"
     ]
    }
   ],
   "source": [
    "# find the split off match between two units\n",
    "for k in range(len(results)):\n",
    "    if results[k][0]==217:\n",
    "        print (k)\n"
   ]
  },
  {
   "cell_type": "code",
   "execution_count": 25,
   "metadata": {},
   "outputs": [
    {
     "name": "stdout",
     "output_type": "stream",
     "text": [
      "(221, 101, 60)\n"
     ]
    }
   ],
   "source": [
    "print (templates_yass.shape)\n",
    "temp1 = templates_yass[52]\n",
    "temp2 = templates_yass[199]\n",
    "ax1 = plt.subplot(2,2,1)\n",
    "\n",
    "plt.plot(temp1,c='black')\n",
    "plt.plot(temp2, c='red')\n",
    "plt.title(\"Raw templates\")\n",
    "\n",
    "temp1_norm = -temp1/np.min(temp1)\n",
    "temp2_norm = -temp2/np.min(temp2)\n",
    "ax1 = plt.subplot(2,2,2)\n",
    "plt.plot(temp1_norm, c='black')\n",
    "plt.plot(temp2_norm, c='red')\n",
    "plt.title(\"Normalized templates\")\n",
    "\n",
    "ax3 = plt.subplot(2,2,3)\n",
    "diff = temp1_norm - temp2_norm\n",
    "plt.plot(diff,c='green')\n",
    "plt.ylim(-.1,.1)\n",
    "plt.title(\"Diff between normalized templates\")\n",
    "plt.ylabel(\"Normalized value\")\n",
    "plt.suptitle(\"Bionet simulation; analysis of bursting unit 217; \\nyass oversplit into units 52 (black) and 199 (red)\")\n",
    "\n",
    "ax3 = plt.subplot(2,2,4)\n",
    "diff = (temp1_norm - temp2_norm)* np.min(temp1)\n",
    "plt.plot(diff,c='green')\n",
    "#plt.ylim(-.1,.1)\n",
    "plt.title(\"Diff between normalized templates\")\n",
    "plt.ylabel(\"SU values\")\n",
    "plt.suptitle(\"Bionet simulation; analysis of bursting unit 217; \\nyass oversplit into units 52 (black) and 199 (red)\")\n",
    "\n",
    "\n",
    "\n",
    "plt.show()"
   ]
  },
  {
   "cell_type": "code",
   "execution_count": 40,
   "metadata": {},
   "outputs": [
    {
     "name": "stdout",
     "output_type": "stream",
     "text": [
      "(197, 8)\n"
     ]
    },
    {
     "name": "stderr",
     "output_type": "stream",
     "text": [
      "/home/cat/anaconda3/envs/spikingforest/lib/python3.7/site-packages/ipykernel_launcher.py:23: RuntimeWarning: Mean of empty slice.\n",
      "/home/cat/anaconda3/envs/spikingforest/lib/python3.7/site-packages/numpy/core/_methods.py:161: RuntimeWarning: invalid value encountered in double_scalars\n",
      "  ret = ret.dtype.type(ret / rcount)\n"
     ]
    }
   ],
   "source": [
    "#     return (best_match_test, purity, accuracy,\n",
    "#            n_fn, n_fp, tot_matches, tot_sorted, tot_ground_truth)\n",
    "\n",
    "# thresholded purity metric\n",
    "results_merged = np.load('/media/cat/4TBSSD/data/spikingforest/results_merged.npy')\n",
    "\n",
    "print (results_merged.shape)\n",
    "accuracy = results_merged[:,2]\n",
    "sizes = results_merged[:,6]\n",
    "clr_out = 'red'\n",
    "#clr_out = 'blue'\n",
    "data=np.array(accuracy)\n",
    "\n",
    "\n",
    "ax=plt.subplot(1,1,1)\n",
    "plt.scatter(ptps, data, s=sizes/20.,c=clr_out,alpha=.5)\n",
    "#ax=plt.subplot(1,2,2)\n",
    "idx = np.argsort(ptps)[::-1]\n",
    "\n",
    "\n",
    "cum_purity = []\n",
    "for k in range(idx.shape[0]):\n",
    "    cum_purity.append(data[idx][:k].mean(0))\n",
    "    \n",
    "plt.plot(ptps[idx],cum_purity,linewidth=6, c='black')\n",
    "plt.ylim(0,1)\n",
    "plt.plot([8,8],[0,1],'r--',linewidth=3,c='black')\n",
    "plt.title(\"accuracy\")\n",
    "plt.show()\n"
   ]
  },
  {
   "cell_type": "code",
   "execution_count": 27,
   "metadata": {},
   "outputs": [],
   "source": [
    "unit = 100\n",
    "plt.plot(templates_yass[unit])\n",
    "plt.title(\"Unit: \"+str(unit))\n",
    "plt.show()"
   ]
  },
  {
   "cell_type": "code",
   "execution_count": null,
   "metadata": {},
   "outputs": [],
   "source": []
  },
  {
   "cell_type": "code",
   "execution_count": 21,
   "metadata": {},
   "outputs": [
    {
     "name": "stdout",
     "output_type": "stream",
     "text": [
      "spikes: (8210,) ptps:  (8210,)\n",
      "(8210, 101)\n",
      "[[0.267004 0.004874 0.329415 1.      ]\n",
      " [0.267004 0.004874 0.329415 1.      ]\n",
      " [0.267004 0.004874 0.329415 1.      ]\n",
      " ...\n",
      " [0.993248 0.906157 0.143936 1.      ]\n",
      " [0.993248 0.906157 0.143936 1.      ]\n",
      " [0.993248 0.906157 0.143936 1.      ]]\n"
     ]
    }
   ],
   "source": [
    "# units=np.arange(5)\n",
    "# units = [good_units[3]]\n",
    "\n",
    "# for unit in units:\n",
    "#     fig = plt.figure()\n",
    "#     ax = plt.subplot(131)\n",
    "#     #plt.plot(templates[unit].T)\n",
    "#     plt.plot(wfs_array[unit].mean(0))\n",
    "\n",
    "#     ax = plt.subplot(132)\n",
    "#     #spikes = spikes[idx]\n",
    "#     spikes = times[unit]\n",
    "#     print (\"spikes:\", spikes.shape, \"ptps: \", ptps[unit].shape)\n",
    "#     plt.scatter(spikes/30000., ptps[unit])\n",
    "\n",
    "#     ax=plt.subplot(133)\n",
    "#     max_chan = wfs_array[unit].mean(0).ptp(0).argmax(0)#templates[unit].ptp(0).argmax(0)\n",
    "#     print (wfs_array[unit].shape)\n",
    "\n",
    "#     cmap = cm.get_cmap('viridis',wfs_array[unit].shape[0])\n",
    "#     clrs = cmap(np.arange(wfs_array[unit].shape[0]))\n",
    "#     print (clrs)\n",
    "#     for k in range(0,wfs_array[unit].shape[0],10):\n",
    "#         plt.plot(wfs_array[unit][k].T,c=cmap(k))\n",
    "\n",
    "\n",
    "# plt.show()\n",
    "\n"
   ]
  },
  {
   "cell_type": "code",
   "execution_count": 11,
   "metadata": {},
   "outputs": [
    {
     "name": "stdout",
     "output_type": "stream",
     "text": [
      "(2873, 151, 60)\n",
      "(5544, 151, 60)\n"
     ]
    }
   ],
   "source": [
    "\n",
    "\n",
    "\n",
    "#fname = '/media/cat/4TBSSD/data/spikingforest/synth_bionet_static/static_8x_A_2A/standardized.bin'\n",
    "#data_type = 'float32'\n",
    "fname = '/media/cat/4TBSSD/data/spikingforest/synth_bionet_static/static_8x_A_2A/data_correct_order.bin'\n",
    "data_type = 'int16'\n",
    "\n",
    "n_channels = 60\n",
    "n_times = 151\n",
    "\n",
    "#spike_train = np.load('/media/cat/1TB/data/synthetic/run3/ground_truth/spike_train_ground_truth.npy')\n",
    "#spike_train_yass = np.load('/media/cat/4TBSSD/data/spikingforest/synth_bionet_static/static_8x_A_2A/output/spike_train.npy')\n",
    "spike_train_yass = np.load('/media/cat/4TBSSD/data/spikingforest/synth_bionet_static/static_8x_A_2A/output_original/spike_train.npy')\n",
    "spike_train_gt = np.load('/media/cat/4TBSSD/data/spikingforest/synth_bionet_static/static_8x_A_2A/ground_truth/spike_train.npy')\n",
    "    \n",
    "    \n",
    "#units = [199]\n",
    "templates = []\n",
    "wfs_array = []\n",
    "\n",
    "# yass:  19 , gt:  561  ptp:  62.675797\n",
    "# yass:  25 , gt:  235  ptp:  48.744278\n",
    "# yass:  100 , gt:  541  ptp:  49.390488\n",
    "# yass:  138 , gt:  516  ptp:  68.41851\n",
    "# yass:  165 , gt:  480  ptp:  52.412918\n",
    "# yass:  187 , gt:  502  ptp:  55.726055\n",
    "            \n",
    "unit_yass = 199\n",
    "unit_gt = 217+1\n",
    "\n",
    "# load yass waveforms\n",
    "idx = np.where(spike_train_yass[:,1]==unit_yass)[0]\n",
    "spikes = np.int32(spike_train_yass[idx,0])-n_times//2\n",
    "wfs_yass = binary_reader_waveforms(fname, n_channels, n_times, spikes, data_type)\n",
    "print (wfs_yass.shape)\n",
    "\n",
    "# load \n",
    "idx = np.where(spike_train_gt[:,1]==unit_gt)[0]\n",
    "spikes = np.int32(spike_train_gt[idx,0])-n_times//2+19\n",
    "wfs_gt = binary_reader_waveforms(fname, n_channels, n_times, spikes, data_type)\n",
    "print (wfs_gt.shape)    "
   ]
  },
  {
   "cell_type": "code",
   "execution_count": 65,
   "metadata": {},
   "outputs": [
    {
     "name": "stdout",
     "output_type": "stream",
     "text": [
      "(151, 60)\n",
      "[32 30 34 33 31 35 36 28 29 37 26 27 38 22 24 23 25 39 20 21 19 18 40 17\n",
      " 16 41 14 15 12 42 13 43 10 11 44  8  9 45  6  7 46 47  4  5 48 49  2  3\n",
      "  0  1 50 51 52 53 55 54 57 56 58 59]\n",
      "32 (151, 60)\n",
      "30 (151, 60)\n",
      "34 (151, 60)\n",
      "33 (151, 60)\n",
      "31 (151, 60)\n",
      "35 (151, 60)\n",
      "36 (151, 60)\n",
      "28 (151, 60)\n",
      "29 (151, 60)\n",
      "37 (151, 60)\n"
     ]
    }
   ],
   "source": [
    "template_yass = wfs_yass.mean(0)\n",
    "print (template_yass.shape)\n",
    "max_chans = template_yass.ptp(0)\n",
    "idx = np.argsort(max_chans)[::-1]\n",
    "print (idx)\n",
    "\n",
    "for k in range(10):\n",
    "    ax=plt.subplot(2,5,k+1)\n",
    "    print (idx[k],wfs_yass.mean(0).shape)\n",
    "    plt.plot(wfs_yass.mean(0)[:,idx[k]],c='red')\n",
    "    plt.plot(wfs_gt.mean(0)[:,idx[k]],c='black')\n",
    "    plt.xticks([])\n",
    "    plt.yticks([])\n",
    "    \n",
    "plt.suptitle(\"Red: yass;  black: ground truth\")\n",
    "plt.show()"
   ]
  },
  {
   "cell_type": "code",
   "execution_count": 69,
   "metadata": {},
   "outputs": [],
   "source": [
    "max_chan = wfs_yass.mean(0).ptp(0).argmax(0)\n",
    "\n",
    "plt.plot(wfs_yass[:,:,max_chan].T,c='red', alpha=.01)\n",
    "plt.plot(wfs_gt[:,:,max_chan].T,c='black', alpha=.01)\n",
    "plt.show()"
   ]
  },
  {
   "cell_type": "code",
   "execution_count": 75,
   "metadata": {},
   "outputs": [],
   "source": [
    "max_chan = templates[0].ptp(0).argmax(0)\n",
    "plt.plot(wfs[:,:,max_chan].T, c= 'black', alpha=.1)\n",
    "plt.show()"
   ]
  },
  {
   "cell_type": "code",
   "execution_count": 38,
   "metadata": {},
   "outputs": [],
   "source": [
    "plt.plot(templates[0])\n",
    "plt.show()"
   ]
  },
  {
   "cell_type": "code",
   "execution_count": 42,
   "metadata": {},
   "outputs": [
    {
     "name": "stdout",
     "output_type": "stream",
     "text": [
      "(1152000000,)\n"
     ]
    }
   ],
   "source": [
    "data = np.fromfile('/media/cat/4TBSSD/data/spikingforest/synth_bionet_static/static_8x_A_2A/data.bin','int16')\n",
    "print (data.shape)"
   ]
  },
  {
   "cell_type": "code",
   "execution_count": 44,
   "metadata": {},
   "outputs": [],
   "source": [
    "data2D = data.reshape(60,-1).T\n",
    "for k in range(60):\n",
    "    plt.plot(data2D[:10000, k]+k*100,c='black')\n",
    "plt.show()"
   ]
  },
  {
   "cell_type": "code",
   "execution_count": 45,
   "metadata": {},
   "outputs": [],
   "source": [
    "data2D.ravel().tofile('/media/cat/4TBSSD/data/spikingforest/synth_bionet_static/static_8x_A_2A/data_correct_order.bin')"
   ]
  },
  {
   "cell_type": "code",
   "execution_count": 7,
   "metadata": {},
   "outputs": [
    {
     "name": "stdout",
     "output_type": "stream",
     "text": [
      "(1081156, 2)\n"
     ]
    }
   ],
   "source": [
    "spike_train_yass = np.load('/media/cat/4TBSSD/data/spikingforest/synth_bionet_static/static_8x_A_2A/output/spike_train.npy')\n",
    "print (spike_train_yass.shape)"
   ]
  },
  {
   "cell_type": "code",
   "execution_count": 72,
   "metadata": {},
   "outputs": [
    {
     "name": "stdout",
     "output_type": "stream",
     "text": [
      "<_csv.reader object at 0x7fde629f25f8>\n"
     ]
    }
   ],
   "source": [
    "import csv\n",
    "\n",
    "with open('employee_birthday.txt') as csv_file:\n",
    "    csv_reader = csv.reader(csv_file, delimiter=',')\n",
    "    line_count = 0\n",
    "    for row in csv_reader:\n",
    "        if line_count == 0:\n",
    "            print(f'Column names are {\", \".join(row)}')\n",
    "            line_count += 1\n",
    "        else:\n",
    "            print(f'\\t{row[0]} works in the {row[1]} department, and was born in {row[2]}.')\n",
    "            line_count += 1\n",
    "    print(f'Processed {line_count} lines.')\n",
    "    \n",
    "print (data)"
   ]
  },
  {
   "cell_type": "code",
   "execution_count": null,
   "metadata": {},
   "outputs": [],
   "source": []
  }
 ],
 "metadata": {
  "kernelspec": {
   "display_name": "Python 3",
   "language": "python",
   "name": "python3"
  },
  "language_info": {
   "codemirror_mode": {
    "name": "ipython",
    "version": 3
   },
   "file_extension": ".py",
   "mimetype": "text/x-python",
   "name": "python",
   "nbconvert_exporter": "python",
   "pygments_lexer": "ipython3",
   "version": "3.7.0"
  }
 },
 "nbformat": 4,
 "nbformat_minor": 4
}
