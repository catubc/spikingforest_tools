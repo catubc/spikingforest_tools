{
 "cells": [
  {
   "cell_type": "code",
   "execution_count": 1,
   "metadata": {},
   "outputs": [
    {
     "data": {
      "application/javascript": [
       "IPython.notebook.set_autosave_interval(180000)"
      ]
     },
     "metadata": {},
     "output_type": "display_data"
    },
    {
     "name": "stdout",
     "output_type": "stream",
     "text": [
      "Autosaving every 180 seconds\n"
     ]
    },
    {
     "data": {
      "text/html": [
       "<style>.container { width:100% !important; }</style>"
      ],
      "text/plain": [
       "<IPython.core.display.HTML object>"
      ]
     },
     "metadata": {},
     "output_type": "display_data"
    }
   ],
   "source": [
    "import matplotlib\n",
    "#matplotlib.use('Agg')\n",
    "%matplotlib tk\n",
    "%autosave 180\n",
    "import matplotlib.pyplot as plt\n",
    "from IPython.core.display import display, HTML\n",
    "display(HTML(\"<style>.container { width:100% !important; }</style>\"))\n",
    "import os\n",
    "\n",
    "import numpy as np\n",
    "\n",
    "from spikeforest2_utils import AutoRecordingExtractor, AutoSortingExtractor\n",
    "import kachery as ka"
   ]
  },
  {
   "cell_type": "code",
   "execution_count": 2,
   "metadata": {},
   "outputs": [],
   "source": [
    "# SET ROOT DIRECTORY WHERE DATA WILL BE SAVED\n",
    "root_dir = '/media/cat/4TBSSD/data/spikingforest/hybrid_janelia/static_siprobe/rec_16c_1200s_11/'\n",
    "root_dir = '/media/cat/4TBSSD/data/spikingforest/synth_mearec_neuronexus_noise10_K20_C32/001_SYNTH'\n"
   ]
  },
  {
   "cell_type": "code",
   "execution_count": 14,
   "metadata": {},
   "outputs": [
    {
     "name": "stdout",
     "output_type": "stream",
     "text": [
      "...loading recording...\n",
      "Downloading file --- (28.4 KiB): http://132.249.245.245:24342/get/sha1/615aa23efde8898aa89002613e20ad59dcde42f9?channel=public&signature=4961aa77c3bf828e2bc21749c39236a75b4c6ae0 -> /tmp/sha1-cache/61/5a/a2/615aa23efde8898aa89002613e20ad59dcde42f9\n",
      "Downloaded file (28.4 KiB) in 0.2378990650177002 sec.\n",
      "Downloading file --- (1.1 GiB): http://132.249.245.245:24342/get/sha1/cf2297b3b891d6f5b7a21b7b724b70869107a912?channel=public&signature=7c18edd5d12f48f6ff769ab78391d0074f7ab7a7 -> /tmp/sha1-cache/cf/22/97/cf2297b3b891d6f5b7a21b7b724b70869107a912\n",
      "Downloaded file (1.1 GiB) in 128.60074615478516 sec.\n",
      "DATA: (36000000, 16)\n",
      "DONE LOADING / SAVING RAW DATA\n"
     ]
    }
   ],
   "source": [
    "#LOAD RAW DATA\n",
    "\n",
    "# Configure kachery to download data from the public database\n",
    "ka.set_config(fr='default_readonly')\n",
    "\n",
    "# Specify the recording and ground truth sorting\n",
    "# The addresses files can be obtained from this link: https://spikeforest.flatironinstitute.org/recordings\n",
    "# see datasets on the left hand side of this website\n",
    "# Ask Cat (or Flatiron people) about which datasets to focus on \n",
    "recording_path = 'sha1dir://615aa23efde8898aa89002613e20ad59dcde42f9.hybrid_janelia/static_siprobe/rec_16c_1200s_11'\n",
    "\n",
    "# LOAD DATA\n",
    "print (\"...loading recording...\")\n",
    "recording = AutoRecordingExtractor(recording_path, download=False)\n",
    "data = recording.get_traces()\n",
    "data = data.T # need to transpose from C order to Fortran order for YASS; final shape data = [n_times, n_chans]\n",
    "print (\"DATA:\", data.shape)\n",
    "#data.tofile(os.path.join(root_dir,'data.bin')  # \n",
    "\n",
    "print (\"DONE LOADING / SAVING RAW DATA\")"
   ]
  },
  {
   "cell_type": "code",
   "execution_count": 25,
   "metadata": {},
   "outputs": [
    {
     "name": "stdout",
     "output_type": "stream",
     "text": [
      "...loading recording...\n"
     ]
    },
    {
     "ename": "Exception",
     "evalue": "Unable to initialize recording extractor. Unable to determine format of recording: /media/cat/4TBSSD/data/spikingforest/synth_mearec_neuronexus_noise10_K20_C32/001_SYNTH",
     "output_type": "error",
     "traceback": [
      "\u001b[0;31m---------------------------------------------------------------------------\u001b[0m",
      "\u001b[0;31mException\u001b[0m                                 Traceback (most recent call last)",
      "\u001b[0;32m<ipython-input-25-d30dadc25052>\u001b[0m in \u001b[0;36m<module>\u001b[0;34m\u001b[0m\n\u001b[1;32m      7\u001b[0m \u001b[0;31m# LOAD DATA\u001b[0m\u001b[0;34m\u001b[0m\u001b[0;34m\u001b[0m\u001b[0m\n\u001b[1;32m      8\u001b[0m \u001b[0mprint\u001b[0m \u001b[0;34m(\u001b[0m\u001b[0;34m\"...loading recording...\"\u001b[0m\u001b[0;34m)\u001b[0m\u001b[0;34m\u001b[0m\u001b[0m\n\u001b[0;32m----> 9\u001b[0;31m \u001b[0mrecording\u001b[0m \u001b[0;34m=\u001b[0m \u001b[0mAutoRecordingExtractor\u001b[0m\u001b[0;34m(\u001b[0m\u001b[0mrecording_path\u001b[0m\u001b[0;34m,\u001b[0m \u001b[0mdownload\u001b[0m\u001b[0;34m=\u001b[0m\u001b[0;32mFalse\u001b[0m\u001b[0;34m)\u001b[0m\u001b[0;34m\u001b[0m\u001b[0m\n\u001b[0m\u001b[1;32m     10\u001b[0m \u001b[0mprint\u001b[0m \u001b[0;34m(\u001b[0m\u001b[0;34m\"finished loading recording\"\u001b[0m\u001b[0;34m)\u001b[0m\u001b[0;34m\u001b[0m\u001b[0m\n\u001b[1;32m     11\u001b[0m \u001b[0;31m#sorting_true_path = os.path.join(recording_path,'firings_true.mda')\u001b[0m\u001b[0;34m\u001b[0m\u001b[0;34m\u001b[0m\u001b[0m\n",
      "\u001b[0;32m~/code/spikeforest2/spikeforest2_utils/autoextractors/autorecordingextractor.py\u001b[0m in \u001b[0;36m__init__\u001b[0;34m(self, arg, download)\u001b[0m\n\u001b[1;32m     57\u001b[0m                     \u001b[0mself\u001b[0m\u001b[0;34m.\u001b[0m\u001b[0m_recording\u001b[0m \u001b[0;34m=\u001b[0m \u001b[0mMdaRecordingExtractor\u001b[0m\u001b[0;34m(\u001b[0m\u001b[0mrecording_directory\u001b[0m\u001b[0;34m=\u001b[0m\u001b[0mpath\u001b[0m\u001b[0;34m,\u001b[0m \u001b[0mdownload\u001b[0m\u001b[0;34m=\u001b[0m\u001b[0mdownload\u001b[0m\u001b[0;34m)\u001b[0m\u001b[0;34m\u001b[0m\u001b[0m\n\u001b[1;32m     58\u001b[0m                 \u001b[0;32melse\u001b[0m\u001b[0;34m:\u001b[0m\u001b[0;34m\u001b[0m\u001b[0m\n\u001b[0;32m---> 59\u001b[0;31m                     \u001b[0;32mraise\u001b[0m \u001b[0mException\u001b[0m\u001b[0;34m(\u001b[0m\u001b[0;34m'Unable to initialize recording extractor. Unable to determine format of recording: {}'\u001b[0m\u001b[0;34m.\u001b[0m\u001b[0mformat\u001b[0m\u001b[0;34m(\u001b[0m\u001b[0mpath\u001b[0m\u001b[0;34m)\u001b[0m\u001b[0;34m)\u001b[0m\u001b[0;34m\u001b[0m\u001b[0m\n\u001b[0m\u001b[1;32m     60\u001b[0m         \u001b[0mself\u001b[0m\u001b[0;34m.\u001b[0m\u001b[0mcopy_channel_properties\u001b[0m\u001b[0;34m(\u001b[0m\u001b[0mrecording\u001b[0m\u001b[0;34m=\u001b[0m\u001b[0mself\u001b[0m\u001b[0;34m.\u001b[0m\u001b[0m_recording\u001b[0m\u001b[0;34m)\u001b[0m\u001b[0;34m\u001b[0m\u001b[0m\n\u001b[1;32m     61\u001b[0m \u001b[0;34m\u001b[0m\u001b[0m\n",
      "\u001b[0;31mException\u001b[0m: Unable to initialize recording extractor. Unable to determine format of recording: /media/cat/4TBSSD/data/spikingforest/synth_mearec_neuronexus_noise10_K20_C32/001_SYNTH"
     ]
    }
   ],
   "source": [
    "from spikeforest2_utils import AutoRecordingExtractor, AutoSortingExtractor\n",
    "import kachery as ka\n",
    "ka.set_config(fr='default_readonly')\n",
    "\n",
    "recording_path = '/media/cat/4TBSSD/data/spikingforest/synth_mearec_neuronexus_noise10_K20_C32/001_SYNTH'\n",
    "\n",
    "# LOAD DATA\n",
    "print (\"...loading recording...\")\n",
    "recording = AutoRecordingExtractor(recording_path, download=False)\n",
    "print (\"finished loading recording\")\n",
    "#sorting_true_path = os.path.join(recording_path,'firings_true.mda')\n",
    "#sorting = AutoSortingExtractor(sorting_true_path, samplerate=recording.get_sampling_frequency())"
   ]
  },
  {
   "cell_type": "code",
   "execution_count": 18,
   "metadata": {},
   "outputs": [
    {
     "name": "stdout",
     "output_type": "stream",
     "text": [
      "...loading ground truth data...\n",
      "Downloading 10.0 MiB of http://132.249.245.245:24342/get/sha1/c9a62ee5ae1f71097a17acb9b7aca3457161c76e?channel=public&signature=6920b21e7bbfb765fe9131d97b801d65e71807e8 (bytes 0-10485760)\n",
      "Downloaded 10.0 MiB in 69.53353524208069 sec from http://132.249.245.245:24342/get/sha1/c9a62ee5ae1f71097a17acb9b7aca3457161c76e?channel=public&signature=6920b21e7bbfb765fe9131d97b801d65e71807e8\n",
      "Downloading file --- (1.2 MiB): http://132.249.245.245:24342/get/sha1/b7a90720544b52a34b22b8912bc8342cdf823815?channel=public&signature=b8f9c5967378b5b37f32b1f862d9cc2d94dc2167 -> /tmp/sha1-cache/b7/a9/07/b7a90720544b52a34b22b8912bc8342cdf823815\n",
      "Downloaded file (1.2 MiB) in 1.527402400970459 sec.\n",
      " neuron ids:  [ 0  1  2  3  4  5  6  7  8  9 10 11 12 13 14 15 16 17 18 19]\n",
      " spike train:  [[   15944       -1]\n",
      " [   23766       -1]\n",
      " [   24017       -1]\n",
      " ...\n",
      " [17984516       18]\n",
      " [17986880       18]\n",
      " [17995807       18]]\n",
      "DONE SAVING GROUND TRUTH SPIKETIMES\n"
     ]
    }
   ],
   "source": [
    "# LOAD GROUND TRUTH SPIKETIMES\n",
    "print (\"...loading ground truth data...\")\n",
    "\n",
    "# initialize the extractor; for some reason it needs to be initialized first\n",
    "recording_path = 'sha1dir://10b2e53b6b3aa0731b763db42daa692c4e1564b0.synth_mearec_neuronexus/datasets_noise10_K20_C32/001_synth'\n",
    "recording = AutoRecordingExtractor(recording_path, download=False)\n",
    "\n",
    "# \n",
    "sorting_true_path = os.path.join(recording_path,'firings_true.mda')\n",
    "sorting_true = AutoSortingExtractor(sorting_true_path)\n",
    "\n",
    "ids = sorting_true.get_unit_ids()\n",
    "print (\" neuron ids: \", ids)\n",
    "spike_train = np.zeros((0,2),'int32')\n",
    "for id_ in ids:\n",
    "    temp = sorting_true.get_unit_spike_train(id_)\n",
    "    temp2 = np.zeros((temp.shape[0],2),'int32')\n",
    "    temp2[:,0] = temp\n",
    "    temp2[:,1] = id_\n",
    "    spike_train = np.vstack((spike_train, temp2))\n",
    "\n",
    "# convert to zero-based indexes\n",
    "if np.min(spike_train[:,1]==0):\n",
    "    spike_train[:,1]-=1\n",
    "print (\" spike train: \", spike_train)\n",
    "ground_truth_dir = os.path.join(root_dir,'ground_truth')\n",
    "\n",
    "# make ground-truth directory\n",
    "try:\n",
    "    os.mkdir(ground_truth_dir)\n",
    "except:\n",
    "    pass\n",
    "\n",
    "#np.save(ground_truth_dir+'/spike_train_ground_truth.npy', spike_train)\n",
    "\n",
    "print (\"DONE SAVING GROUND TRUTH SPIKETIMES\")"
   ]
  },
  {
   "cell_type": "code",
   "execution_count": 21,
   "metadata": {},
   "outputs": [],
   "source": [
    "np.save('/media/cat/4TBSSD/data/spikingforest/synth_mearec_neuronexus_noise10_K20_C32/001_SYNTH/ground_truth/spike_train_gt.npy', spike_train)"
   ]
  },
  {
   "cell_type": "code",
   "execution_count": null,
   "metadata": {},
   "outputs": [],
   "source": []
  },
  {
   "cell_type": "code",
   "execution_count": null,
   "metadata": {},
   "outputs": [],
   "source": []
  },
  {
   "cell_type": "code",
   "execution_count": 13,
   "metadata": {},
   "outputs": [],
   "source": [
    "# Visualize data\n",
    "data = data.T # need to transpose from C order to Fortran order for YASS\n",
    "print (\"DATA (Should be [n_times, n_chans]):\", data.shape)\n",
    "#data.tofile(os.path.join(root_dir,'data.bin')  # might need to ravel, but not always required.\n",
    "\n",
    "for k in range(data.shape[1]):    \n",
    "    plt.plot(data[:10000,k]+k*100,c='black')\n",
    "plt.show()\n"
   ]
  },
  {
   "cell_type": "code",
   "execution_count": 20,
   "metadata": {},
   "outputs": [],
   "source": []
  },
  {
   "cell_type": "code",
   "execution_count": null,
   "metadata": {},
   "outputs": [],
   "source": []
  }
 ],
 "metadata": {
  "kernelspec": {
   "display_name": "Python 3",
   "language": "python",
   "name": "python3"
  },
  "language_info": {
   "codemirror_mode": {
    "name": "ipython",
    "version": 3
   },
   "file_extension": ".py",
   "mimetype": "text/x-python",
   "name": "python",
   "nbconvert_exporter": "python",
   "pygments_lexer": "ipython3",
   "version": "3.7.0"
  }
 },
 "nbformat": 4,
 "nbformat_minor": 4
}
