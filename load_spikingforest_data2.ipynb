{
 "cells": [
  {
   "cell_type": "code",
   "execution_count": 1,
   "metadata": {},
   "outputs": [
    {
     "data": {
      "application/javascript": [
       "IPython.notebook.set_autosave_interval(180000)"
      ]
     },
     "metadata": {},
     "output_type": "display_data"
    },
    {
     "name": "stdout",
     "output_type": "stream",
     "text": [
      "Autosaving every 180 seconds\n"
     ]
    },
    {
     "data": {
      "text/html": [
       "<style>.container { width:100% !important; }</style>"
      ],
      "text/plain": [
       "<IPython.core.display.HTML object>"
      ]
     },
     "metadata": {},
     "output_type": "display_data"
    }
   ],
   "source": [
    "import matplotlib\n",
    "#matplotlib.use('Agg')\n",
    "%matplotlib tk\n",
    "%autosave 180\n",
    "import matplotlib.pyplot as plt\n",
    "from IPython.core.display import display, HTML\n",
    "display(HTML(\"<style>.container { width:100% !important; }</style>\"))\n",
    "import os\n",
    "\n",
    "import numpy as np\n",
    "\n",
    "from spikeforest2_utils import AutoRecordingExtractor, AutoSortingExtractor\n",
    "import kachery as ka"
   ]
  },
  {
   "cell_type": "code",
   "execution_count": null,
   "metadata": {},
   "outputs": [],
   "source": [
    "# SET ROOT DIRECTORY WHERE DATA WILL BE SAVED\n",
    "root_dir = '/media/cat/4TBSSD/data/spikingforest/hybrid_janelia/static_siprobe/rec_16c_1200s_11/'\n"
   ]
  },
  {
   "cell_type": "code",
   "execution_count": 3,
   "metadata": {},
   "outputs": [
    {
     "name": "stdout",
     "output_type": "stream",
     "text": [
      "...loading recording...\n",
      "Downloading file --- (28.4 KiB): http://132.249.245.245:24342/get/sha1/615aa23efde8898aa89002613e20ad59dcde42f9?channel=public&signature=4961aa77c3bf828e2bc21749c39236a75b4c6ae0 -> /tmp/sha1-cache/61/5a/a2/615aa23efde8898aa89002613e20ad59dcde42f9\n",
      "Downloaded file (28.4 KiB) in 1.2543187141418457 sec.\n",
      "Downloading file --- (1.1 GiB): http://132.249.245.245:24342/get/sha1/cf2297b3b891d6f5b7a21b7b724b70869107a912?channel=public&signature=7c18edd5d12f48f6ff769ab78391d0074f7ab7a7 -> /tmp/sha1-cache/cf/22/97/cf2297b3b891d6f5b7a21b7b724b70869107a912\n",
      "Downloaded file (1.1 GiB) in 263.47198128700256 sec.\n",
      "DONE\n"
     ]
    }
   ],
   "source": [
    "#LOAD RAW DATA\n",
    "\n",
    "# Configure kachery to download data from the public database\n",
    "ka.set_config(fr='default_readonly')\n",
    "\n",
    "# Specify the recording and ground truth sorting\n",
    "# The addresses files can be obtained from this link: https://spikeforest.flatironinstitute.org/recordings\n",
    "# see datasets on the left hand side of this website\n",
    "# Ask Cat (or Flatiron people) about which datasets to focus on \n",
    "recording_path = 'sha1dir://615aa23efde8898aa89002613e20ad59dcde42f9.hybrid_janelia/static_siprobe/rec_16c_1200s_11'\n",
    "\n",
    "# LOAD DATA\n",
    "print (\"...loading recording...\")\n",
    "recording = AutoRecordingExtractor(recording_path, download=True)\n",
    "data = recording.get_traces()\n",
    "data = data.T # need to transpose from C order to Fortran order for YASS; final shape data = [n_times, n_chans]\n",
    "print (\"DATA:\", data.shape)\n",
    "data.tofile(os.path.join(root_dir,'data.bin')  # \n",
    "\n",
    "print (\"DONE LOADING / SAVING RAW DATA\")"
   ]
  },
  {
   "cell_type": "code",
   "execution_count": 6,
   "metadata": {},
   "outputs": [
    {
     "name": "stdout",
     "output_type": "stream",
     "text": [
      "Downloading file --- (11.1 MiB): http://132.249.245.245:24342/get/sha1/88b62db6fc467b83ba0693453c59c5f538e20d5c?channel=public&signature=51b608f56b444ffdc749e419da690193795aad10 -> /tmp/sha1-cache/88/b6/2d/88b62db6fc467b83ba0693453c59c5f538e20d5c\n",
      "Downloaded file (11.1 MiB) in 2.559777021408081 sec.\n",
      "DONE\n"
     ]
    }
   ],
   "source": [
    "# LOAD GROUND TRUTH SPIKETIMES\n",
    "print (\"...loading ground truth data...\")\n",
    "sorting_true_path = os.path.join(recording_path,'firings_true.mda')\n",
    "sorting_true = AutoSortingExtractor(sorting_true_path)\n",
    "\n",
    "ids = sorting_true.get_unit_ids()\n",
    "print (\" neuron ids: \", ids)\n",
    "spike_train = np.zeros((0,2),'int32')\n",
    "for id_ in ids:\n",
    "    temp = sorting_true.get_unit_spike_train(id_)\n",
    "    temp2 = np.zeros((temp.shape[0],2),'int32')\n",
    "    temp2[:,0] = temp\n",
    "    temp2[:,1] = id_\n",
    "    spike_train = np.vstack((spike_train, temp2))\n",
    "spike_train[:,1]-=1\n",
    "print (\" spike train: \", spike_train)\n",
    "ground_truth_dir = os.path.join(root_dir,'ground_truth')\n",
    "\n",
    "# make ground-truth directory\n",
    "try:\n",
    "    os.mkdir(ground_truth_dir)\n",
    "except:\n",
    "    pass\n",
    "\n",
    "np.save(ground_truth_dir+'/spike_train_ground_truth.npy', spike_train)\n",
    "\n",
    "print (\"DONE SAVING GROUND TRUTH SPIKETIMES\")"
   ]
  },
  {
   "cell_type": "code",
   "execution_count": null,
   "metadata": {},
   "outputs": [],
   "source": []
  },
  {
   "cell_type": "code",
   "execution_count": null,
   "metadata": {},
   "outputs": [],
   "source": []
  },
  {
   "cell_type": "code",
   "execution_count": null,
   "metadata": {},
   "outputs": [],
   "source": []
  },
  {
   "cell_type": "code",
   "execution_count": 13,
   "metadata": {},
   "outputs": [],
   "source": [
    "# Visualize data\n",
    "data = data.T # need to transpose from C order to Fortran order for YASS\n",
    "print (\"DATA (Should be [n_times, n_chans]):\", data.shape)\n",
    "#data.tofile(os.path.join(root_dir,'data.bin')  # might need to ravel, but not always required.\n",
    "\n",
    "for k in range(data.shape[1]):    \n",
    "    plt.plot(data[:10000,k]+k*100,c='black')\n",
    "plt.show()\n"
   ]
  },
  {
   "cell_type": "code",
   "execution_count": 20,
   "metadata": {},
   "outputs": [],
   "source": []
  },
  {
   "cell_type": "code",
   "execution_count": null,
   "metadata": {},
   "outputs": [],
   "source": []
  }
 ],
 "metadata": {
  "kernelspec": {
   "display_name": "Python 3",
   "language": "python",
   "name": "python3"
  },
  "language_info": {
   "codemirror_mode": {
    "name": "ipython",
    "version": 3
   },
   "file_extension": ".py",
   "mimetype": "text/x-python",
   "name": "python",
   "nbconvert_exporter": "python",
   "pygments_lexer": "ipython3",
   "version": "3.7.0"
  }
 },
 "nbformat": 4,
 "nbformat_minor": 4
}
